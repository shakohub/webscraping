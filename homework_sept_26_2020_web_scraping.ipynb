{
 "cells": [
  {
   "cell_type": "code",
   "execution_count": 1,
   "metadata": {},
   "outputs": [],
   "source": [
    "import requests\n",
    "from bs4 import BeautifulSoup\n",
    "import numpy as np\n",
    "import pandas as pd"
   ]
  },
  {
   "cell_type": "code",
   "execution_count": 2,
   "metadata": {},
   "outputs": [],
   "source": [
    "URL = 'https://en.wikipedia.org/wiki/List_of_counties_in_Maryland'"
   ]
  },
  {
   "cell_type": "code",
   "execution_count": 3,
   "metadata": {},
   "outputs": [
    {
     "data": {
      "text/plain": [
       "200"
      ]
     },
     "execution_count": 3,
     "metadata": {},
     "output_type": "execute_result"
    }
   ],
   "source": [
    "response = requests.get(URL)\n",
    "response.status_code\n"
   ]
  },
  {
   "cell_type": "code",
   "execution_count": 4,
   "metadata": {},
   "outputs": [
    {
     "name": "stdout",
     "output_type": "stream",
     "text": [
      "<!DOCTYPE html>\n",
      "<html class=\"client-nojs\" lang=\"en\" dir=\"ltr\">\n",
      "<head>\n",
      "<meta charset=\"UTF-8\"/>\n",
      "<title>List of counties in Maryland - Wikipedia</title>\n",
      "<script>document.documentElement.className=\"client-js\";RLCONF={\"wgBreakFrames\":!1,\"wgSeparatorTransformTable\":[\"\",\"\"],\"wgDigitTransformTable\":[\"\",\"\"],\n"
     ]
    }
   ],
   "source": [
    "print(response.text[:300])"
   ]
  },
  {
   "cell_type": "code",
   "execution_count": 5,
   "metadata": {},
   "outputs": [],
   "source": [
    "raw_HTML = BeautifulSoup(response.text,'html.parser')"
   ]
  },
  {
   "cell_type": "code",
   "execution_count": 6,
   "metadata": {},
   "outputs": [
    {
     "data": {
      "text/plain": [
       "<title>List of counties in Maryland - Wikipedia</title>"
      ]
     },
     "execution_count": 6,
     "metadata": {},
     "output_type": "execute_result"
    }
   ],
   "source": [
    "raw_HTML.title"
   ]
  },
  {
   "cell_type": "code",
   "execution_count": 7,
   "metadata": {},
   "outputs": [
    {
     "data": {
      "text/plain": [
       "<table class=\"infobox vevent\" style=\"width:22em;float: right; width: 250px; font-size: 90%; text-align: left; border-spacing: 3px;\"><tbody><tr><th class=\"summary\" colspan=\"2\" style=\"text-align:center;font-size:125%;font-weight:bold;font-size: 130%; background-color: #F0F0F0; vertical-align: middle\">Independent city and counties of Maryland</th></tr><tr><td colspan=\"2\" style=\"text-align:center\"><a class=\"image\" href=\"/wiki/File:Map_of_maryland_counties.jpg\"><img alt=\"Map of maryland counties.jpg\" data-file-height=\"436\" data-file-width=\"814\" decoding=\"async\" height=\"161\" src=\"//upload.wikimedia.org/wikipedia/commons/thumb/7/7d/Map_of_maryland_counties.jpg/300px-Map_of_maryland_counties.jpg\" srcset=\"//upload.wikimedia.org/wikipedia/commons/thumb/7/7d/Map_of_maryland_counties.jpg/450px-Map_of_maryland_counties.jpg 1.5x, //upload.wikimedia.org/wikipedia/commons/thumb/7/7d/Map_of_maryland_counties.jpg/600px-Map_of_maryland_counties.jpg 2x\" width=\"300\"/></a></td></tr><tr><th scope=\"row\" style=\"white-space:nowrap;padding-right:0.65em;\">Location</th><td style=\"line-height:1.3em;\"><a href=\"/wiki/Maryland\" title=\"Maryland\">State of Maryland</a></td></tr><tr><th scope=\"row\" style=\"white-space:nowrap;padding-right:0.65em;\">Number</th><td style=\"line-height:1.3em;\">23 counties and 1 Independent city</td></tr><tr><th scope=\"row\" style=\"white-space:nowrap;padding-right:0.65em;\">Populations</th><td style=\"line-height:1.3em;\"><b>(Counties only)</b>: 20,191 (<a href=\"/wiki/Kent_County,_Maryland\" title=\"Kent County, Maryland\">Kent</a>) – 1,004,709 (<a href=\"/wiki/Montgomery_County,_Maryland\" title=\"Montgomery County, Maryland\">Montgomery</a>)</td></tr><tr><th scope=\"row\" style=\"white-space:nowrap;padding-right:0.65em;\">Areas</th><td style=\"line-height:1.3em;\"><b>(Counties only)</b>: 254 square miles (660 km<sup>2</sup>) (<a href=\"/wiki/Howard_County,_Maryland\" title=\"Howard County, Maryland\">Howard</a>) – 695 square miles (1,800 km<sup>2</sup>) (<a href=\"/wiki/Worcester_County,_Maryland\" title=\"Worcester County, Maryland\">Worcester</a>)</td></tr><tr><th scope=\"row\" style=\"white-space:nowrap;padding-right:0.65em;\">Government</th><td style=\"line-height:1.3em;\"><a class=\"mw-redirect\" href=\"/wiki/County_government\" title=\"County government\">County government</a></td></tr><tr><th scope=\"row\" style=\"white-space:nowrap;padding-right:0.65em;\">Subdivisions</th><td style=\"line-height:1.3em;\"><b>(Counties)</b>: cities, towns, unincorporated communities, <a class=\"mw-redirect\" href=\"/wiki/Census_designated_place\" title=\"Census designated place\">census designated place</a><br/><b>(Independent city)</b>: <a href=\"/wiki/List_of_Baltimore_neighborhoods\" title=\"List of Baltimore neighborhoods\">Neighborhoods</a></td></tr></tbody></table>"
      ]
     },
     "execution_count": 7,
     "metadata": {},
     "output_type": "execute_result"
    }
   ],
   "source": [
    "raw_HTML.find('table')"
   ]
  },
  {
   "cell_type": "code",
   "execution_count": 8,
   "metadata": {},
   "outputs": [
    {
     "data": {
      "text/plain": [
       "<table class=\"wikitable sortable\" style=\"text-align: center;\">\n",
       "<caption>\n",
       "</caption>\n",
       "<tbody><tr>\n",
       "<th scope=\"col\" style=\"vertical-align: top; width: 90px;\">County<br/>\n",
       "</th>\n",
       "<th scope=\"col\" style=\"vertical-align: top; width:75px;\"><abbr title=\"Federal Information Processing Standard\">FIPS</abbr> code<sup class=\"reference\" id=\"cite_ref-FIPS_5-0\"><a href=\"#cite_note-FIPS-5\">[5]</a></sup>\n",
       "</th>\n",
       "<th scope=\"col\" style=\"vertical-align: top; width: ;\"><a href=\"/wiki/County_seat\" title=\"County seat\">County seat</a><sup class=\"reference\" id=\"cite_ref-Manual_2-1\"><a href=\"#cite_note-Manual-2\">[2]</a></sup><sup class=\"reference\" id=\"cite_ref-NACO_6-0\"><a href=\"#cite_note-NACO-6\">[6]</a></sup>\n",
       "</th>\n",
       "<th scope=\"col\" style=\"vertical-align: top; width: ;\"><abbr title=\"Established\">Est.</abbr><sup class=\"reference\" id=\"cite_ref-Manual_2-2\"><a href=\"#cite_note-Manual-2\">[2]</a></sup><sup class=\"reference\" id=\"cite_ref-NACO_6-1\"><a href=\"#cite_note-NACO-6\">[6]</a></sup>\n",
       "</th>\n",
       "<th scope=\"col\" style=\"vertical-align: top;\">Origin<sup class=\"reference\" id=\"cite_ref-Manual_2-3\"><a href=\"#cite_note-Manual-2\">[2]</a></sup>\n",
       "</th>\n",
       "<th class=\"unsortable\" scope=\"col\" style=\"vertical-align: top;\">Etymology<sup class=\"reference\" id=\"cite_ref-Manual_2-4\"><a href=\"#cite_note-Manual-2\">[2]</a></sup></th>\n",
       "<th style=\"vertical-align: top;\">Flag<br/></th>\n",
       "<th style=\"vertical-align: top;\">Seal<br/>\n",
       "</th>\n",
       "<th scope=\"col\" style=\"vertical-align: top; width: 90px;\">Population<sup class=\"reference\" id=\"cite_ref-7\"><a href=\"#cite_note-7\">[7]</a></sup>\n",
       "</th>\n",
       "<th scope=\"col\" style=\"vertical-align: top; width: 75px;\">Area<sup class=\"reference\" id=\"cite_ref-NACO_6-2\"><a href=\"#cite_note-NACO-6\">[6]</a></sup><sup class=\"reference\" id=\"cite_ref-QF_8-0\"><a href=\"#cite_note-QF-8\">[8]</a></sup>\n",
       "</th>\n",
       "<th class=\"unsortable\" scope=\"col\" style=\"vertical-align: top; width: 80px;\">Map\n",
       "</th></tr>\n",
       "<tr>\n",
       "<th scope=\"row\"><a href=\"/wiki/Allegany_County,_Maryland\" title=\"Allegany County, Maryland\">Allegany County</a>\n",
       "</th>\n",
       "<td><a class=\"external text\" href=\"http://www.census.gov/quickfacts/table/PST045215/24001,00\" rel=\"nofollow\">001</a>\n",
       "</td>\n",
       "<td><a href=\"/wiki/Cumberland,_Maryland\" title=\"Cumberland, Maryland\">Cumberland</a></td>\n",
       "<td>1789</td>\n",
       "<td>Formed from part of Washington County.</td>\n",
       "<td>From the Lenape Indian word <b>oolikhanna</b>, which means \"beautiful stream\"</td>\n",
       "<td><a class=\"image\" href=\"/wiki/File:Flag_of_Allegany_County,_Maryland.png\"><img alt=\"Flag of Allegany County, Maryland.png\" data-file-height=\"240\" data-file-width=\"400\" decoding=\"async\" height=\"75\" src=\"//upload.wikimedia.org/wikipedia/commons/thumb/0/0a/Flag_of_Allegany_County%2C_Maryland.png/125px-Flag_of_Allegany_County%2C_Maryland.png\" srcset=\"//upload.wikimedia.org/wikipedia/commons/thumb/0/0a/Flag_of_Allegany_County%2C_Maryland.png/188px-Flag_of_Allegany_County%2C_Maryland.png 1.5x, //upload.wikimedia.org/wikipedia/commons/thumb/0/0a/Flag_of_Allegany_County%2C_Maryland.png/250px-Flag_of_Allegany_County%2C_Maryland.png 2x\" width=\"125\"/></a></td>\n",
       "<td><a class=\"image\" href=\"/wiki/File:Seal_of_Allegany_County,_Maryland.png\"><img alt=\"Seal of Allegany County, Maryland.png\" data-file-height=\"1455\" data-file-width=\"1455\" decoding=\"async\" height=\"75\" src=\"//upload.wikimedia.org/wikipedia/commons/thumb/c/c6/Seal_of_Allegany_County%2C_Maryland.png/75px-Seal_of_Allegany_County%2C_Maryland.png\" srcset=\"//upload.wikimedia.org/wikipedia/commons/thumb/c/c6/Seal_of_Allegany_County%2C_Maryland.png/113px-Seal_of_Allegany_County%2C_Maryland.png 1.5x, //upload.wikimedia.org/wikipedia/commons/thumb/c/c6/Seal_of_Allegany_County%2C_Maryland.png/150px-Seal_of_Allegany_County%2C_Maryland.png 2x\" width=\"75\"/></a>\n",
       "</td>\n",
       "<td><span data-sort-value=\"7004740120000000000♠\">74,012</span>\n",
       "</td>\n",
       "<td><span data-sort-value=\"7002430000000000000♠\">430</span> sq mi<br/>(<span data-sort-value=\"7003111400000000000♠\">1,114</span> km<sup>2</sup>)</td>\n",
       "<td><a class=\"image\" href=\"/wiki/File:Map_of_Maryland_highlighting_Allegany_County.svg\" title=\"State map highlighting Allegany County\"><img alt=\"State map highlighting Allegany County\" data-file-height=\"2019\" data-file-width=\"3858\" decoding=\"async\" height=\"78\" src=\"//upload.wikimedia.org/wikipedia/commons/thumb/c/c9/Map_of_Maryland_highlighting_Allegany_County.svg/150px-Map_of_Maryland_highlighting_Allegany_County.svg.png\" srcset=\"//upload.wikimedia.org/wikipedia/commons/thumb/c/c9/Map_of_Maryland_highlighting_Allegany_County.svg/225px-Map_of_Maryland_highlighting_Allegany_County.svg.png 1.5x, //upload.wikimedia.org/wikipedia/commons/thumb/c/c9/Map_of_Maryland_highlighting_Allegany_County.svg/300px-Map_of_Maryland_highlighting_Allegany_County.svg.png 2x\" width=\"150\"/></a>\n",
       "</td></tr>\n",
       "<tr>\n",
       "<th scope=\"row\"><a href=\"/wiki/Anne_Arundel_County,_Maryland\" title=\"Anne Arundel County, Maryland\">Anne Arundel County</a>\n",
       "</th>\n",
       "<td><a class=\"external text\" href=\"http://www.census.gov/quickfacts/table/PST045215/24003,00\" rel=\"nofollow\">003</a>\n",
       "</td>\n",
       "<td><a href=\"/wiki/Annapolis,_Maryland\" title=\"Annapolis, Maryland\">Annapolis</a></td>\n",
       "<td>1650</td>\n",
       "<td>Formed from part of St. Mary's County.</td>\n",
       "<td><a href=\"/wiki/Anne_Arundell\" title=\"Anne Arundell\">Anne Arundell</a> was the maiden name of the wife of <a href=\"/wiki/Cecil_Calvert,_2nd_Baron_Baltimore\" title=\"Cecil Calvert, 2nd Baron Baltimore\">Cecil Calvert, 2nd Baron Baltimore</a>. Between 1654 and 1658 it was known as <a class=\"mw-redirect\" href=\"/wiki/Divine_Providence\" title=\"Divine Providence\">Providence</a> County by <a class=\"mw-redirect\" href=\"/wiki/Puritan\" title=\"Puritan\">Puritan</a> settlers</td>\n",
       "<td><a class=\"image\" href=\"/wiki/File:Flag_of_Anne_Arundel_County,_Maryland.svg\"><img alt=\"Flag of Anne Arundel County, Maryland.svg\" data-file-height=\"2157\" data-file-width=\"3636\" decoding=\"async\" height=\"74\" src=\"//upload.wikimedia.org/wikipedia/commons/thumb/a/a3/Flag_of_Anne_Arundel_County%2C_Maryland.svg/125px-Flag_of_Anne_Arundel_County%2C_Maryland.svg.png\" srcset=\"//upload.wikimedia.org/wikipedia/commons/thumb/a/a3/Flag_of_Anne_Arundel_County%2C_Maryland.svg/188px-Flag_of_Anne_Arundel_County%2C_Maryland.svg.png 1.5x, //upload.wikimedia.org/wikipedia/commons/thumb/a/a3/Flag_of_Anne_Arundel_County%2C_Maryland.svg/250px-Flag_of_Anne_Arundel_County%2C_Maryland.svg.png 2x\" width=\"125\"/></a></td>\n",
       "<td><a class=\"image\" href=\"/wiki/File:Seal_of_Anne_Arundel_County,_Maryland.svg\"><img alt=\"Seal of Anne Arundel County, Maryland.svg\" data-file-height=\"320\" data-file-width=\"280\" decoding=\"async\" height=\"86\" src=\"//upload.wikimedia.org/wikipedia/commons/thumb/7/71/Seal_of_Anne_Arundel_County%2C_Maryland.svg/75px-Seal_of_Anne_Arundel_County%2C_Maryland.svg.png\" srcset=\"//upload.wikimedia.org/wikipedia/commons/thumb/7/71/Seal_of_Anne_Arundel_County%2C_Maryland.svg/113px-Seal_of_Anne_Arundel_County%2C_Maryland.svg.png 1.5x, //upload.wikimedia.org/wikipedia/commons/thumb/7/71/Seal_of_Anne_Arundel_County%2C_Maryland.svg/150px-Seal_of_Anne_Arundel_County%2C_Maryland.svg.png 2x\" width=\"75\"/></a>\n",
       "</td>\n",
       "<td><span data-sort-value=\"7005550488000000000♠\">550,488</span>\n",
       "</td>\n",
       "<td><span data-sort-value=\"7002588000000000000♠\">588</span> sq mi<br/>(<span data-sort-value=\"7003152300000000000♠\">1,523</span> km<sup>2</sup>)</td>\n",
       "<td><a class=\"image\" href=\"/wiki/File:Map_of_Maryland_highlighting_Anne_Arundel_County.svg\" title=\"State map highlighting Anne Arundel County\"><img alt=\"State map highlighting Anne Arundel County\" data-file-height=\"2019\" data-file-width=\"3858\" decoding=\"async\" height=\"78\" src=\"//upload.wikimedia.org/wikipedia/commons/thumb/0/0a/Map_of_Maryland_highlighting_Anne_Arundel_County.svg/150px-Map_of_Maryland_highlighting_Anne_Arundel_County.svg.png\" srcset=\"//upload.wikimedia.org/wikipedia/commons/thumb/0/0a/Map_of_Maryland_highlighting_Anne_Arundel_County.svg/225px-Map_of_Maryland_highlighting_Anne_Arundel_County.svg.png 1.5x, //upload.wikimedia.org/wikipedia/commons/thumb/0/0a/Map_of_Maryland_highlighting_Anne_Arundel_County.svg/300px-Map_of_Maryland_highlighting_Anne_Arundel_County.svg.png 2x\" width=\"150\"/></a>\n",
       "</td></tr>\n",
       "<tr>\n",
       "<th scope=\"row\"><a href=\"/wiki/Baltimore_County,_Maryland\" title=\"Baltimore County, Maryland\">Baltimore County</a>\n",
       "</th>\n",
       "<td><a class=\"external text\" href=\"http://www.census.gov/quickfacts/table/PST045215/24005,00\" rel=\"nofollow\">005</a>\n",
       "</td>\n",
       "<td><a href=\"/wiki/Towson,_Maryland\" title=\"Towson, Maryland\">Towson</a></td>\n",
       "<td>1659</td>\n",
       "<td>Formed from unorganized territory</td>\n",
       "<td><a href=\"/wiki/Cecil_Calvert,_2nd_Baron_Baltimore\" title=\"Cecil Calvert, 2nd Baron Baltimore\">Cecil Calvert, 2nd Baron Baltimore</a>, first proprietor of the <a href=\"/wiki/Province_of_Maryland\" title=\"Province of Maryland\">Maryland colony</a></td>\n",
       "<td><a class=\"image\" href=\"/wiki/File:Flag_of_Baltimore_County,_Maryland.svg\"><img alt=\"Flag of Baltimore County, Maryland.svg\" data-file-height=\"1081\" data-file-width=\"1648\" decoding=\"async\" height=\"82\" src=\"//upload.wikimedia.org/wikipedia/commons/thumb/a/a4/Flag_of_Baltimore_County%2C_Maryland.svg/125px-Flag_of_Baltimore_County%2C_Maryland.svg.png\" srcset=\"//upload.wikimedia.org/wikipedia/commons/thumb/a/a4/Flag_of_Baltimore_County%2C_Maryland.svg/188px-Flag_of_Baltimore_County%2C_Maryland.svg.png 1.5x, //upload.wikimedia.org/wikipedia/commons/thumb/a/a4/Flag_of_Baltimore_County%2C_Maryland.svg/250px-Flag_of_Baltimore_County%2C_Maryland.svg.png 2x\" width=\"125\"/></a></td>\n",
       "<td><a class=\"image\" href=\"/wiki/File:Seal_of_Baltimore_County,_Maryland.svg\"><img alt=\"Seal of Baltimore County, Maryland.svg\" data-file-height=\"1024\" data-file-width=\"1024\" decoding=\"async\" height=\"75\" src=\"//upload.wikimedia.org/wikipedia/commons/thumb/b/b5/Seal_of_Baltimore_County%2C_Maryland.svg/75px-Seal_of_Baltimore_County%2C_Maryland.svg.png\" srcset=\"//upload.wikimedia.org/wikipedia/commons/thumb/b/b5/Seal_of_Baltimore_County%2C_Maryland.svg/113px-Seal_of_Baltimore_County%2C_Maryland.svg.png 1.5x, //upload.wikimedia.org/wikipedia/commons/thumb/b/b5/Seal_of_Baltimore_County%2C_Maryland.svg/150px-Seal_of_Baltimore_County%2C_Maryland.svg.png 2x\" width=\"75\"/></a>\n",
       "</td>\n",
       "<td><span data-sort-value=\"7005817455000000000♠\">817,455</span>\n",
       "</td>\n",
       "<td><span data-sort-value=\"7002682000000000000♠\">682</span> sq mi<br/>(<span data-sort-value=\"7003176600000000000♠\">1,766</span> km<sup>2</sup>)</td>\n",
       "<td><a class=\"image\" href=\"/wiki/File:Map_of_Maryland_highlighting_Baltimore_County.svg\" title=\"State map highlighting Baltimore County\"><img alt=\"State map highlighting Baltimore County\" data-file-height=\"2019\" data-file-width=\"3858\" decoding=\"async\" height=\"78\" src=\"//upload.wikimedia.org/wikipedia/commons/thumb/1/1a/Map_of_Maryland_highlighting_Baltimore_County.svg/150px-Map_of_Maryland_highlighting_Baltimore_County.svg.png\" srcset=\"//upload.wikimedia.org/wikipedia/commons/thumb/1/1a/Map_of_Maryland_highlighting_Baltimore_County.svg/225px-Map_of_Maryland_highlighting_Baltimore_County.svg.png 1.5x, //upload.wikimedia.org/wikipedia/commons/thumb/1/1a/Map_of_Maryland_highlighting_Baltimore_County.svg/300px-Map_of_Maryland_highlighting_Baltimore_County.svg.png 2x\" width=\"150\"/></a>\n",
       "</td></tr>\n",
       "<tr>\n",
       "<th scope=\"row\"><a class=\"mw-redirect\" href=\"/wiki/Baltimore_City,_Maryland\" title=\"Baltimore City, Maryland\">Baltimore City</a>\n",
       "</th>\n",
       "<td><a class=\"external text\" href=\"http://www.census.gov/quickfacts/table/PST045215/24510,00\" rel=\"nofollow\">510</a>\n",
       "</td>\n",
       "<td><a class=\"mw-redirect\" href=\"/wiki/Baltimore_City,_Maryland\" title=\"Baltimore City, Maryland\">Baltimore City</a></td>\n",
       "<td>1851</td>\n",
       "<td>Founded in 1729. Detached in 1851 from Baltimore County</td>\n",
       "<td><a href=\"/wiki/Cecil_Calvert,_2nd_Baron_Baltimore\" title=\"Cecil Calvert, 2nd Baron Baltimore\">Cecil Calvert, 2nd Baron Baltimore</a>, first proprietor of the <a href=\"/wiki/Province_of_Maryland\" title=\"Province of Maryland\">Maryland colony</a></td>\n",
       "<td><a class=\"image\" href=\"/wiki/File:Flag_of_Baltimore,_Maryland.svg\"><img alt=\"Flag of Baltimore, Maryland.svg\" data-file-height=\"533\" data-file-width=\"800\" decoding=\"async\" height=\"83\" src=\"//upload.wikimedia.org/wikipedia/commons/thumb/7/77/Flag_of_Baltimore%2C_Maryland.svg/125px-Flag_of_Baltimore%2C_Maryland.svg.png\" srcset=\"//upload.wikimedia.org/wikipedia/commons/thumb/7/77/Flag_of_Baltimore%2C_Maryland.svg/188px-Flag_of_Baltimore%2C_Maryland.svg.png 1.5x, //upload.wikimedia.org/wikipedia/commons/thumb/7/77/Flag_of_Baltimore%2C_Maryland.svg/250px-Flag_of_Baltimore%2C_Maryland.svg.png 2x\" width=\"125\"/></a></td>\n",
       "<td><a class=\"image\" href=\"/wiki/File:Seal_of_Baltimore,_Maryland.png\"><img alt=\"Seal of Baltimore, Maryland.png\" data-file-height=\"290\" data-file-width=\"214\" decoding=\"async\" height=\"102\" src=\"//upload.wikimedia.org/wikipedia/commons/thumb/1/16/Seal_of_Baltimore%2C_Maryland.png/75px-Seal_of_Baltimore%2C_Maryland.png\" srcset=\"//upload.wikimedia.org/wikipedia/commons/thumb/1/16/Seal_of_Baltimore%2C_Maryland.png/113px-Seal_of_Baltimore%2C_Maryland.png 1.5x, //upload.wikimedia.org/wikipedia/commons/thumb/1/16/Seal_of_Baltimore%2C_Maryland.png/150px-Seal_of_Baltimore%2C_Maryland.png 2x\" width=\"75\"/></a>\n",
       "</td>\n",
       "<td><span data-sort-value=\"7005621342000000000♠\">621,342</span>\n",
       "</td>\n",
       "<td><span data-sort-value=\"7001920000000000000♠\">92</span> sq mi<br/>(<span data-sort-value=\"7002238000000000000♠\">238</span> km<sup>2</sup>)</td>\n",
       "<td><a class=\"image\" href=\"/wiki/File:Map_of_Maryland_highlighting_Baltimore_City.svg\" title=\"State map highlighting Baltimore City\"><img alt=\"State map highlighting Baltimore City\" data-file-height=\"2019\" data-file-width=\"3858\" decoding=\"async\" height=\"78\" src=\"//upload.wikimedia.org/wikipedia/commons/thumb/8/87/Map_of_Maryland_highlighting_Baltimore_City.svg/150px-Map_of_Maryland_highlighting_Baltimore_City.svg.png\" srcset=\"//upload.wikimedia.org/wikipedia/commons/thumb/8/87/Map_of_Maryland_highlighting_Baltimore_City.svg/225px-Map_of_Maryland_highlighting_Baltimore_City.svg.png 1.5x, //upload.wikimedia.org/wikipedia/commons/thumb/8/87/Map_of_Maryland_highlighting_Baltimore_City.svg/300px-Map_of_Maryland_highlighting_Baltimore_City.svg.png 2x\" width=\"150\"/></a>\n",
       "</td></tr>\n",
       "<tr>\n",
       "<th scope=\"row\"><a href=\"/wiki/Calvert_County,_Maryland\" title=\"Calvert County, Maryland\">Calvert County</a>\n",
       "</th>\n",
       "<td><a class=\"external text\" href=\"http://www.census.gov/quickfacts/table/PST045215/24009,00\" rel=\"nofollow\">009</a>\n",
       "</td>\n",
       "<td><a href=\"/wiki/Prince_Frederick,_Maryland\" title=\"Prince Frederick, Maryland\">Prince Frederick</a></td>\n",
       "<td>1654</td>\n",
       "<td>Formed as Patuxent County from unorganized territory. Renamed Calvert County in 1658</td>\n",
       "<td>The <a href=\"/wiki/Baron_Baltimore\" title=\"Baron Baltimore\">Calvert family</a>; prior to 1658 it was called Patuxent County, after the Patuxent Indians, a branch of the <a href=\"/wiki/Algonquian_peoples\" title=\"Algonquian peoples\">Algonquians</a></td>\n",
       "<td><a class=\"image\" href=\"/wiki/File:Flag_of_Calvert_County,_Maryland.svg\"><img alt=\"Flag of Calvert County, Maryland.svg\" data-file-height=\"721\" data-file-width=\"1052\" decoding=\"async\" height=\"86\" src=\"//upload.wikimedia.org/wikipedia/commons/thumb/e/ed/Flag_of_Calvert_County%2C_Maryland.svg/125px-Flag_of_Calvert_County%2C_Maryland.svg.png\" srcset=\"//upload.wikimedia.org/wikipedia/commons/thumb/e/ed/Flag_of_Calvert_County%2C_Maryland.svg/188px-Flag_of_Calvert_County%2C_Maryland.svg.png 1.5x, //upload.wikimedia.org/wikipedia/commons/thumb/e/ed/Flag_of_Calvert_County%2C_Maryland.svg/250px-Flag_of_Calvert_County%2C_Maryland.svg.png 2x\" width=\"125\"/></a></td>\n",
       "<td><a class=\"image\" href=\"/wiki/File:Seal_of_Calvert_County,_Maryland.png\"><img alt=\"Seal of Calvert County, Maryland.png\" data-file-height=\"214\" data-file-width=\"214\" decoding=\"async\" height=\"75\" src=\"//upload.wikimedia.org/wikipedia/commons/thumb/f/fe/Seal_of_Calvert_County%2C_Maryland.png/75px-Seal_of_Calvert_County%2C_Maryland.png\" srcset=\"//upload.wikimedia.org/wikipedia/commons/thumb/f/fe/Seal_of_Calvert_County%2C_Maryland.png/113px-Seal_of_Calvert_County%2C_Maryland.png 1.5x, //upload.wikimedia.org/wikipedia/commons/thumb/f/fe/Seal_of_Calvert_County%2C_Maryland.png/150px-Seal_of_Calvert_County%2C_Maryland.png 2x\" width=\"75\"/></a>\n",
       "</td>\n",
       "<td><span data-sort-value=\"7004896280000000000♠\">89,628</span>\n",
       "</td>\n",
       "<td><span data-sort-value=\"7002345000000000000♠\">345</span> sq mi<br/>(<span data-sort-value=\"7002894000000000000♠\">894</span> km<sup>2</sup>)</td>\n",
       "<td><a class=\"image\" href=\"/wiki/File:Map_of_Maryland_highlighting_Calvert_County.svg\" title=\"State map highlighting Calvert County\"><img alt=\"State map highlighting Calvert County\" data-file-height=\"2019\" data-file-width=\"3858\" decoding=\"async\" height=\"78\" src=\"//upload.wikimedia.org/wikipedia/commons/thumb/c/cf/Map_of_Maryland_highlighting_Calvert_County.svg/150px-Map_of_Maryland_highlighting_Calvert_County.svg.png\" srcset=\"//upload.wikimedia.org/wikipedia/commons/thumb/c/cf/Map_of_Maryland_highlighting_Calvert_County.svg/225px-Map_of_Maryland_highlighting_Calvert_County.svg.png 1.5x, //upload.wikimedia.org/wikipedia/commons/thumb/c/cf/Map_of_Maryland_highlighting_Calvert_County.svg/300px-Map_of_Maryland_highlighting_Calvert_County.svg.png 2x\" width=\"150\"/></a>\n",
       "</td></tr>\n",
       "<tr>\n",
       "<th scope=\"row\"><a href=\"/wiki/Caroline_County,_Maryland\" title=\"Caroline County, Maryland\">Caroline County</a>\n",
       "</th>\n",
       "<td><a class=\"external text\" href=\"http://www.census.gov/quickfacts/table/PST045215/24011,00\" rel=\"nofollow\">011</a>\n",
       "</td>\n",
       "<td><a href=\"/wiki/Denton,_Maryland\" title=\"Denton, Maryland\">Denton</a></td>\n",
       "<td>1773</td>\n",
       "<td>From parts of Dorchester County and Queen Anne's County</td>\n",
       "<td>Lady Caroline Eden, daughter of <a href=\"/wiki/Charles_Calvert,_5th_Baron_Baltimore\" title=\"Charles Calvert, 5th Baron Baltimore\">Charles Calvert, 5th Baron Baltimore</a></td>\n",
       "<td><a class=\"image\" href=\"/wiki/File:Flag_of_Caroline_County,_Maryland.svg\"><img alt=\"Flag of Caroline County, Maryland.svg\" data-file-height=\"216\" data-file-width=\"360\" decoding=\"async\" height=\"75\" src=\"//upload.wikimedia.org/wikipedia/commons/thumb/1/1a/Flag_of_Caroline_County%2C_Maryland.svg/125px-Flag_of_Caroline_County%2C_Maryland.svg.png\" srcset=\"//upload.wikimedia.org/wikipedia/commons/thumb/1/1a/Flag_of_Caroline_County%2C_Maryland.svg/188px-Flag_of_Caroline_County%2C_Maryland.svg.png 1.5x, //upload.wikimedia.org/wikipedia/commons/thumb/1/1a/Flag_of_Caroline_County%2C_Maryland.svg/250px-Flag_of_Caroline_County%2C_Maryland.svg.png 2x\" width=\"125\"/></a></td>\n",
       "<td><a class=\"image\" href=\"/wiki/File:Seal_of_Caroline_County,_Maryland.svg\"><img alt=\"Seal of Caroline County, Maryland.svg\" data-file-height=\"1437\" data-file-width=\"1070\" decoding=\"async\" height=\"101\" src=\"//upload.wikimedia.org/wikipedia/commons/thumb/8/83/Seal_of_Caroline_County%2C_Maryland.svg/75px-Seal_of_Caroline_County%2C_Maryland.svg.png\" srcset=\"//upload.wikimedia.org/wikipedia/commons/thumb/8/83/Seal_of_Caroline_County%2C_Maryland.svg/113px-Seal_of_Caroline_County%2C_Maryland.svg.png 1.5x, //upload.wikimedia.org/wikipedia/commons/thumb/8/83/Seal_of_Caroline_County%2C_Maryland.svg/150px-Seal_of_Caroline_County%2C_Maryland.svg.png 2x\" width=\"75\"/></a>\n",
       "</td>\n",
       "<td><span data-sort-value=\"7004327180000000000♠\">32,718</span>\n",
       "</td>\n",
       "<td><span data-sort-value=\"7002326000000000000♠\">326</span> sq mi<br/>(<span data-sort-value=\"7002844000000000000♠\">844</span> km<sup>2</sup>)</td>\n",
       "<td><a class=\"image\" href=\"/wiki/File:Map_of_Maryland_highlighting_Caroline_County.svg\" title=\"State map highlighting Caroline County\"><img alt=\"State map highlighting Caroline County\" data-file-height=\"2019\" data-file-width=\"3858\" decoding=\"async\" height=\"78\" src=\"//upload.wikimedia.org/wikipedia/commons/thumb/5/59/Map_of_Maryland_highlighting_Caroline_County.svg/150px-Map_of_Maryland_highlighting_Caroline_County.svg.png\" srcset=\"//upload.wikimedia.org/wikipedia/commons/thumb/5/59/Map_of_Maryland_highlighting_Caroline_County.svg/225px-Map_of_Maryland_highlighting_Caroline_County.svg.png 1.5x, //upload.wikimedia.org/wikipedia/commons/thumb/5/59/Map_of_Maryland_highlighting_Caroline_County.svg/300px-Map_of_Maryland_highlighting_Caroline_County.svg.png 2x\" width=\"150\"/></a>\n",
       "</td></tr>\n",
       "<tr>\n",
       "<th scope=\"row\"><a href=\"/wiki/Carroll_County,_Maryland\" title=\"Carroll County, Maryland\">Carroll County</a>\n",
       "</th>\n",
       "<td><a class=\"external text\" href=\"http://www.census.gov/quickfacts/table/PST045215/24013,00\" rel=\"nofollow\">013</a>\n",
       "</td>\n",
       "<td><a href=\"/wiki/Westminster,_Maryland\" title=\"Westminster, Maryland\">Westminster</a></td>\n",
       "<td>1837</td>\n",
       "<td>From parts of Baltimore County and Frederick County</td>\n",
       "<td><a href=\"/wiki/Charles_Carroll_of_Carrollton\" title=\"Charles Carroll of Carrollton\">Charles Carroll of Carrollton</a>, a representative to the <a href=\"/wiki/Continental_Congress\" title=\"Continental Congress\">Continental Congress</a> and signatory of the <a href=\"/wiki/United_States_Declaration_of_Independence\" title=\"United States Declaration of Independence\">Declaration of Independence</a></td>\n",
       "<td><a class=\"image\" href=\"/wiki/File:Flag_of_Carroll_County,_Maryland.png\"><img alt=\"Flag of Carroll County, Maryland.png\" data-file-height=\"324\" data-file-width=\"486\" decoding=\"async\" height=\"83\" src=\"//upload.wikimedia.org/wikipedia/commons/thumb/3/30/Flag_of_Carroll_County%2C_Maryland.png/125px-Flag_of_Carroll_County%2C_Maryland.png\" srcset=\"//upload.wikimedia.org/wikipedia/commons/thumb/3/30/Flag_of_Carroll_County%2C_Maryland.png/188px-Flag_of_Carroll_County%2C_Maryland.png 1.5x, //upload.wikimedia.org/wikipedia/commons/thumb/3/30/Flag_of_Carroll_County%2C_Maryland.png/250px-Flag_of_Carroll_County%2C_Maryland.png 2x\" width=\"125\"/></a></td>\n",
       "<td><a class=\"image\" href=\"/wiki/File:Seal_of_Carroll_County,_Maryland.png\"><img alt=\"Seal of Carroll County, Maryland.png\" data-file-height=\"269\" data-file-width=\"268\" decoding=\"async\" height=\"75\" src=\"//upload.wikimedia.org/wikipedia/commons/thumb/4/4f/Seal_of_Carroll_County%2C_Maryland.png/75px-Seal_of_Carroll_County%2C_Maryland.png\" srcset=\"//upload.wikimedia.org/wikipedia/commons/thumb/4/4f/Seal_of_Carroll_County%2C_Maryland.png/113px-Seal_of_Carroll_County%2C_Maryland.png 1.5x, //upload.wikimedia.org/wikipedia/commons/thumb/4/4f/Seal_of_Carroll_County%2C_Maryland.png/150px-Seal_of_Carroll_County%2C_Maryland.png 2x\" width=\"75\"/></a>\n",
       "</td>\n",
       "<td><span data-sort-value=\"7005167217000000000♠\">167,217</span>\n",
       "</td>\n",
       "<td><span data-sort-value=\"7002452000000000000♠\">452</span> sq mi<br/>(<span data-sort-value=\"7003117100000000000♠\">1,171</span> km<sup>2</sup>)</td>\n",
       "<td><a class=\"image\" href=\"/wiki/File:Map_of_Maryland_highlighting_Carroll_County.svg\" title=\"State map highlighting Carroll County\"><img alt=\"State map highlighting Carroll County\" data-file-height=\"2019\" data-file-width=\"3858\" decoding=\"async\" height=\"78\" src=\"//upload.wikimedia.org/wikipedia/commons/thumb/8/82/Map_of_Maryland_highlighting_Carroll_County.svg/150px-Map_of_Maryland_highlighting_Carroll_County.svg.png\" srcset=\"//upload.wikimedia.org/wikipedia/commons/thumb/8/82/Map_of_Maryland_highlighting_Carroll_County.svg/225px-Map_of_Maryland_highlighting_Carroll_County.svg.png 1.5x, //upload.wikimedia.org/wikipedia/commons/thumb/8/82/Map_of_Maryland_highlighting_Carroll_County.svg/300px-Map_of_Maryland_highlighting_Carroll_County.svg.png 2x\" width=\"150\"/></a>\n",
       "</td></tr>\n",
       "<tr>\n",
       "<th scope=\"row\"><a href=\"/wiki/Cecil_County,_Maryland\" title=\"Cecil County, Maryland\">Cecil County</a>\n",
       "</th>\n",
       "<td><a class=\"external text\" href=\"http://www.census.gov/quickfacts/table/PST045215/24015,00\" rel=\"nofollow\">015</a>\n",
       "</td>\n",
       "<td><a href=\"/wiki/Elkton,_Maryland\" title=\"Elkton, Maryland\">Elkton</a></td>\n",
       "<td>1672</td>\n",
       "<td>From parts of Baltimore County and Kent County</td>\n",
       "<td>Cecil is an Anglicized form of the first name of <a href=\"/wiki/Cecil_Calvert,_2nd_Baron_Baltimore\" title=\"Cecil Calvert, 2nd Baron Baltimore\">Cecil Calvert, 2nd Baron Baltimore</a></td>\n",
       "<td><a class=\"image\" href=\"/wiki/File:Flag_of_Cecil_County,_Maryland.gif\"><img alt=\"Flag of Cecil County, Maryland.gif\" data-file-height=\"240\" data-file-width=\"400\" decoding=\"async\" height=\"75\" src=\"//upload.wikimedia.org/wikipedia/commons/thumb/0/03/Flag_of_Cecil_County%2C_Maryland.gif/125px-Flag_of_Cecil_County%2C_Maryland.gif\" srcset=\"//upload.wikimedia.org/wikipedia/commons/thumb/0/03/Flag_of_Cecil_County%2C_Maryland.gif/188px-Flag_of_Cecil_County%2C_Maryland.gif 1.5x, //upload.wikimedia.org/wikipedia/commons/thumb/0/03/Flag_of_Cecil_County%2C_Maryland.gif/250px-Flag_of_Cecil_County%2C_Maryland.gif 2x\" width=\"125\"/></a></td>\n",
       "<td><a class=\"image\" href=\"/wiki/File:Seal_of_Cecil_County,_Maryland.png\"><img alt=\"Seal of Cecil County, Maryland.png\" data-file-height=\"1904\" data-file-width=\"1901\" decoding=\"async\" height=\"75\" src=\"//upload.wikimedia.org/wikipedia/commons/thumb/d/d1/Seal_of_Cecil_County%2C_Maryland.png/75px-Seal_of_Cecil_County%2C_Maryland.png\" srcset=\"//upload.wikimedia.org/wikipedia/commons/thumb/d/d1/Seal_of_Cecil_County%2C_Maryland.png/113px-Seal_of_Cecil_County%2C_Maryland.png 1.5x, //upload.wikimedia.org/wikipedia/commons/thumb/d/d1/Seal_of_Cecil_County%2C_Maryland.png/150px-Seal_of_Cecil_County%2C_Maryland.png 2x\" width=\"75\"/></a>\n",
       "</td>\n",
       "<td><span data-sort-value=\"7005101696000000000♠\">101,696</span>\n",
       "</td>\n",
       "<td><span data-sort-value=\"7002418000000000000♠\">418</span> sq mi<br/>(<span data-sort-value=\"7003108300000000000♠\">1,083</span> km<sup>2</sup>)</td>\n",
       "<td><a class=\"image\" href=\"/wiki/File:Map_of_Maryland_highlighting_Cecil_County.svg\" title=\"State map highlighting Cecil County\"><img alt=\"State map highlighting Cecil County\" data-file-height=\"2019\" data-file-width=\"3858\" decoding=\"async\" height=\"78\" src=\"//upload.wikimedia.org/wikipedia/commons/thumb/6/6e/Map_of_Maryland_highlighting_Cecil_County.svg/150px-Map_of_Maryland_highlighting_Cecil_County.svg.png\" srcset=\"//upload.wikimedia.org/wikipedia/commons/thumb/6/6e/Map_of_Maryland_highlighting_Cecil_County.svg/225px-Map_of_Maryland_highlighting_Cecil_County.svg.png 1.5x, //upload.wikimedia.org/wikipedia/commons/thumb/6/6e/Map_of_Maryland_highlighting_Cecil_County.svg/300px-Map_of_Maryland_highlighting_Cecil_County.svg.png 2x\" width=\"150\"/></a>\n",
       "</td></tr>\n",
       "<tr>\n",
       "<th scope=\"row\"><a href=\"/wiki/Charles_County,_Maryland\" title=\"Charles County, Maryland\">Charles County</a>\n",
       "</th>\n",
       "<td><a class=\"external text\" href=\"http://www.census.gov/quickfacts/table/PST045215/24017,00\" rel=\"nofollow\">017</a>\n",
       "</td>\n",
       "<td><a href=\"/wiki/La_Plata,_Maryland\" title=\"La Plata, Maryland\">La Plata</a></td>\n",
       "<td>1658</td>\n",
       "<td>From unorganized territory</td>\n",
       "<td><a href=\"/wiki/Charles_Calvert,_3rd_Baron_Baltimore\" title=\"Charles Calvert, 3rd Baron Baltimore\">Charles Calvert, 3rd Baron Baltimore</a>, second proprietor of the <a href=\"/wiki/Province_of_Maryland\" title=\"Province of Maryland\">Maryland colony</a></td>\n",
       "<td><a class=\"image\" href=\"/wiki/File:Flag_of_Charles_County,_Maryland.png\"><img alt=\"Flag of Charles County, Maryland.png\" data-file-height=\"216\" data-file-width=\"410\" decoding=\"async\" height=\"66\" src=\"//upload.wikimedia.org/wikipedia/commons/thumb/6/65/Flag_of_Charles_County%2C_Maryland.png/125px-Flag_of_Charles_County%2C_Maryland.png\" srcset=\"//upload.wikimedia.org/wikipedia/commons/thumb/6/65/Flag_of_Charles_County%2C_Maryland.png/188px-Flag_of_Charles_County%2C_Maryland.png 1.5x, //upload.wikimedia.org/wikipedia/commons/thumb/6/65/Flag_of_Charles_County%2C_Maryland.png/250px-Flag_of_Charles_County%2C_Maryland.png 2x\" width=\"125\"/></a></td>\n",
       "<td><a class=\"image\" href=\"/wiki/File:Seal_of_Charles_County,_Maryland.svg\"><img alt=\"Seal of Charles County, Maryland.svg\" data-file-height=\"358\" data-file-width=\"267\" decoding=\"async\" height=\"101\" src=\"//upload.wikimedia.org/wikipedia/commons/thumb/f/f9/Seal_of_Charles_County%2C_Maryland.svg/75px-Seal_of_Charles_County%2C_Maryland.svg.png\" srcset=\"//upload.wikimedia.org/wikipedia/commons/thumb/f/f9/Seal_of_Charles_County%2C_Maryland.svg/113px-Seal_of_Charles_County%2C_Maryland.svg.png 1.5x, //upload.wikimedia.org/wikipedia/commons/thumb/f/f9/Seal_of_Charles_County%2C_Maryland.svg/150px-Seal_of_Charles_County%2C_Maryland.svg.png 2x\" width=\"75\"/></a>\n",
       "</td>\n",
       "<td><span data-sort-value=\"7005150592000000000♠\">150,592</span>\n",
       "</td>\n",
       "<td><span data-sort-value=\"7002643000000000000♠\">643</span> sq mi<br/>(<span data-sort-value=\"7003166500000000000♠\">1,665</span> km<sup>2</sup>)</td>\n",
       "<td><a class=\"image\" href=\"/wiki/File:Map_of_Maryland_highlighting_Charles_County.svg\" title=\"State map highlighting Charles County\"><img alt=\"State map highlighting Charles County\" data-file-height=\"2019\" data-file-width=\"3858\" decoding=\"async\" height=\"78\" src=\"//upload.wikimedia.org/wikipedia/commons/thumb/6/62/Map_of_Maryland_highlighting_Charles_County.svg/150px-Map_of_Maryland_highlighting_Charles_County.svg.png\" srcset=\"//upload.wikimedia.org/wikipedia/commons/thumb/6/62/Map_of_Maryland_highlighting_Charles_County.svg/225px-Map_of_Maryland_highlighting_Charles_County.svg.png 1.5x, //upload.wikimedia.org/wikipedia/commons/thumb/6/62/Map_of_Maryland_highlighting_Charles_County.svg/300px-Map_of_Maryland_highlighting_Charles_County.svg.png 2x\" width=\"150\"/></a>\n",
       "</td></tr>\n",
       "<tr>\n",
       "<th scope=\"row\"><a href=\"/wiki/Dorchester_County,_Maryland\" title=\"Dorchester County, Maryland\">Dorchester County</a>\n",
       "</th>\n",
       "<td><a class=\"external text\" href=\"http://www.census.gov/quickfacts/table/PST045215/24019,00\" rel=\"nofollow\">019</a>\n",
       "</td>\n",
       "<td><a href=\"/wiki/Cambridge,_Maryland\" title=\"Cambridge, Maryland\">Cambridge</a></td>\n",
       "<td>1668</td>\n",
       "<td>From unorganized territory</td>\n",
       "<td><a href=\"/wiki/Dorchester,_Dorset\" title=\"Dorchester, Dorset\">Dorchester</a> in <a href=\"/wiki/Dorset\" title=\"Dorset\">Dorset</a>, England; the <a href=\"/wiki/Earl_of_Dorset\" title=\"Earl of Dorset\">Earl of Dorset</a> was a friend of the Calvert family</td>\n",
       "<td><a class=\"image\" href=\"/wiki/File:Flag_of_Dochester_County,_Maryland.png\"><img alt=\"Flag of Dochester County, Maryland.png\" data-file-height=\"216\" data-file-width=\"265\" decoding=\"async\" height=\"102\" src=\"//upload.wikimedia.org/wikipedia/commons/thumb/4/40/Flag_of_Dochester_County%2C_Maryland.png/125px-Flag_of_Dochester_County%2C_Maryland.png\" srcset=\"//upload.wikimedia.org/wikipedia/commons/thumb/4/40/Flag_of_Dochester_County%2C_Maryland.png/188px-Flag_of_Dochester_County%2C_Maryland.png 1.5x, //upload.wikimedia.org/wikipedia/commons/thumb/4/40/Flag_of_Dochester_County%2C_Maryland.png/250px-Flag_of_Dochester_County%2C_Maryland.png 2x\" width=\"125\"/></a></td>\n",
       "<td><a class=\"image\" href=\"/wiki/File:Seal_of_Dorchester_County,_Maryland.png\"><img alt=\"Seal of Dorchester County, Maryland.png\" data-file-height=\"250\" data-file-width=\"249\" decoding=\"async\" height=\"75\" src=\"//upload.wikimedia.org/wikipedia/commons/thumb/6/60/Seal_of_Dorchester_County%2C_Maryland.png/75px-Seal_of_Dorchester_County%2C_Maryland.png\" srcset=\"//upload.wikimedia.org/wikipedia/commons/thumb/6/60/Seal_of_Dorchester_County%2C_Maryland.png/113px-Seal_of_Dorchester_County%2C_Maryland.png 1.5x, //upload.wikimedia.org/wikipedia/commons/thumb/6/60/Seal_of_Dorchester_County%2C_Maryland.png/150px-Seal_of_Dorchester_County%2C_Maryland.png 2x\" width=\"75\"/></a>\n",
       "</td>\n",
       "<td><span data-sort-value=\"7004325510000000000♠\">32,551</span>\n",
       "</td>\n",
       "<td><span data-sort-value=\"7002540000000000000♠\">540</span> sq mi<br/>(<span data-sort-value=\"7003139900000000000♠\">1,399</span> km<sup>2</sup>)</td>\n",
       "<td><a class=\"image\" href=\"/wiki/File:Map_of_Maryland_highlighting_Dorchester_County.svg\" title=\"State map highlighting Dorchester County\"><img alt=\"State map highlighting Dorchester County\" data-file-height=\"2019\" data-file-width=\"3858\" decoding=\"async\" height=\"78\" src=\"//upload.wikimedia.org/wikipedia/commons/thumb/6/62/Map_of_Maryland_highlighting_Dorchester_County.svg/150px-Map_of_Maryland_highlighting_Dorchester_County.svg.png\" srcset=\"//upload.wikimedia.org/wikipedia/commons/thumb/6/62/Map_of_Maryland_highlighting_Dorchester_County.svg/225px-Map_of_Maryland_highlighting_Dorchester_County.svg.png 1.5x, //upload.wikimedia.org/wikipedia/commons/thumb/6/62/Map_of_Maryland_highlighting_Dorchester_County.svg/300px-Map_of_Maryland_highlighting_Dorchester_County.svg.png 2x\" width=\"150\"/></a>\n",
       "</td></tr>\n",
       "<tr>\n",
       "<th scope=\"row\"><a href=\"/wiki/Frederick_County,_Maryland\" title=\"Frederick County, Maryland\">Frederick County</a>\n",
       "</th>\n",
       "<td><a class=\"external text\" href=\"http://www.census.gov/quickfacts/table/PST045215/24021,00\" rel=\"nofollow\">021</a>\n",
       "</td>\n",
       "<td><a href=\"/wiki/Frederick,_Maryland\" title=\"Frederick, Maryland\">Frederick</a></td>\n",
       "<td>1748</td>\n",
       "<td>From part of Prince George's County</td>\n",
       "<td><a href=\"/wiki/Frederick_Calvert,_6th_Baron_Baltimore\" title=\"Frederick Calvert, 6th Baron Baltimore\">Frederick Calvert, 6th Baron Baltimore</a>, final proprietor of the <a href=\"/wiki/Province_of_Maryland\" title=\"Province of Maryland\">Maryland colony</a></td>\n",
       "<td><a class=\"image\" href=\"/wiki/File:Flag_of_Frederick_County,_Maryland.png\"><img alt=\"Flag of Frederick County, Maryland.png\" data-file-height=\"240\" data-file-width=\"400\" decoding=\"async\" height=\"75\" src=\"//upload.wikimedia.org/wikipedia/commons/thumb/e/e8/Flag_of_Frederick_County%2C_Maryland.png/125px-Flag_of_Frederick_County%2C_Maryland.png\" srcset=\"//upload.wikimedia.org/wikipedia/commons/thumb/e/e8/Flag_of_Frederick_County%2C_Maryland.png/188px-Flag_of_Frederick_County%2C_Maryland.png 1.5x, //upload.wikimedia.org/wikipedia/commons/thumb/e/e8/Flag_of_Frederick_County%2C_Maryland.png/250px-Flag_of_Frederick_County%2C_Maryland.png 2x\" width=\"125\"/></a></td>\n",
       "<td><a class=\"image\" href=\"/wiki/File:Seal_of_Frederick_County,_Maryland.png\"><img alt=\"Seal of Frederick County, Maryland.png\" data-file-height=\"256\" data-file-width=\"256\" decoding=\"async\" height=\"75\" src=\"//upload.wikimedia.org/wikipedia/commons/thumb/9/99/Seal_of_Frederick_County%2C_Maryland.png/75px-Seal_of_Frederick_County%2C_Maryland.png\" srcset=\"//upload.wikimedia.org/wikipedia/commons/thumb/9/99/Seal_of_Frederick_County%2C_Maryland.png/113px-Seal_of_Frederick_County%2C_Maryland.png 1.5x, //upload.wikimedia.org/wikipedia/commons/thumb/9/99/Seal_of_Frederick_County%2C_Maryland.png/150px-Seal_of_Frederick_County%2C_Maryland.png 2x\" width=\"75\"/></a>\n",
       "</td>\n",
       "<td><span data-sort-value=\"7005239582000000000♠\">239,582</span>\n",
       "</td>\n",
       "<td><span data-sort-value=\"7002667000000000000♠\">667</span> sq mi<br/>(<span data-sort-value=\"7003172800000000000♠\">1,728</span> km<sup>2</sup>)</td>\n",
       "<td><a class=\"image\" href=\"/wiki/File:Map_of_Maryland_highlighting_Frederick_County.svg\" title=\"State map highlighting Frederick County\"><img alt=\"State map highlighting Frederick County\" data-file-height=\"2019\" data-file-width=\"3858\" decoding=\"async\" height=\"78\" src=\"//upload.wikimedia.org/wikipedia/commons/thumb/2/21/Map_of_Maryland_highlighting_Frederick_County.svg/150px-Map_of_Maryland_highlighting_Frederick_County.svg.png\" srcset=\"//upload.wikimedia.org/wikipedia/commons/thumb/2/21/Map_of_Maryland_highlighting_Frederick_County.svg/225px-Map_of_Maryland_highlighting_Frederick_County.svg.png 1.5x, //upload.wikimedia.org/wikipedia/commons/thumb/2/21/Map_of_Maryland_highlighting_Frederick_County.svg/300px-Map_of_Maryland_highlighting_Frederick_County.svg.png 2x\" width=\"150\"/></a>\n",
       "</td></tr>\n",
       "<tr>\n",
       "<th scope=\"row\"><a href=\"/wiki/Garrett_County,_Maryland\" title=\"Garrett County, Maryland\">Garrett County</a>\n",
       "</th>\n",
       "<td><a class=\"external text\" href=\"http://www.census.gov/quickfacts/table/PST045215/24023,00\" rel=\"nofollow\">023</a>\n",
       "</td>\n",
       "<td><a href=\"/wiki/Oakland,_Maryland\" title=\"Oakland, Maryland\">Oakland</a></td>\n",
       "<td>1872</td>\n",
       "<td>From part of Allegany County</td>\n",
       "<td><a class=\"mw-redirect\" href=\"/wiki/John_Work_Garrett\" title=\"John Work Garrett\">John Work Garrett</a>, president of the <a href=\"/wiki/Baltimore_and_Ohio_Railroad\" title=\"Baltimore and Ohio Railroad\">Baltimore and Ohio Railroad</a></td>\n",
       "<td><a class=\"image\" href=\"/wiki/File:Flag_of_Garrett_County,_Maryland.svg\"><img alt=\"Flag of Garrett County, Maryland.svg\" data-file-height=\"1042\" data-file-width=\"1723\" decoding=\"async\" height=\"76\" src=\"//upload.wikimedia.org/wikipedia/commons/thumb/e/e5/Flag_of_Garrett_County%2C_Maryland.svg/125px-Flag_of_Garrett_County%2C_Maryland.svg.png\" srcset=\"//upload.wikimedia.org/wikipedia/commons/thumb/e/e5/Flag_of_Garrett_County%2C_Maryland.svg/188px-Flag_of_Garrett_County%2C_Maryland.svg.png 1.5x, //upload.wikimedia.org/wikipedia/commons/thumb/e/e5/Flag_of_Garrett_County%2C_Maryland.svg/250px-Flag_of_Garrett_County%2C_Maryland.svg.png 2x\" width=\"125\"/></a></td>\n",
       "<td><a class=\"image\" href=\"/wiki/File:Seal_of_Garrett_County,_Maryland.svg\"><img alt=\"Seal of Garrett County, Maryland.svg\" data-file-height=\"842\" data-file-width=\"1001\" decoding=\"async\" height=\"63\" src=\"//upload.wikimedia.org/wikipedia/commons/thumb/8/82/Seal_of_Garrett_County%2C_Maryland.svg/75px-Seal_of_Garrett_County%2C_Maryland.svg.png\" srcset=\"//upload.wikimedia.org/wikipedia/commons/thumb/8/82/Seal_of_Garrett_County%2C_Maryland.svg/113px-Seal_of_Garrett_County%2C_Maryland.svg.png 1.5x, //upload.wikimedia.org/wikipedia/commons/thumb/8/82/Seal_of_Garrett_County%2C_Maryland.svg/150px-Seal_of_Garrett_County%2C_Maryland.svg.png 2x\" width=\"75\"/></a>\n",
       "</td>\n",
       "<td><span data-sort-value=\"7004298540000000000♠\">29,854</span>\n",
       "</td>\n",
       "<td><span data-sort-value=\"7002656000000000000♠\">656</span> sq mi<br/>(<span data-sort-value=\"7003169900000000000♠\">1,699</span> km<sup>2</sup>)</td>\n",
       "<td><a class=\"image\" href=\"/wiki/File:Map_of_Maryland_highlighting_Garrett_County.svg\" title=\"State map highlighting Garrett County\"><img alt=\"State map highlighting Garrett County\" data-file-height=\"2019\" data-file-width=\"3858\" decoding=\"async\" height=\"78\" src=\"//upload.wikimedia.org/wikipedia/commons/thumb/a/a6/Map_of_Maryland_highlighting_Garrett_County.svg/150px-Map_of_Maryland_highlighting_Garrett_County.svg.png\" srcset=\"//upload.wikimedia.org/wikipedia/commons/thumb/a/a6/Map_of_Maryland_highlighting_Garrett_County.svg/225px-Map_of_Maryland_highlighting_Garrett_County.svg.png 1.5x, //upload.wikimedia.org/wikipedia/commons/thumb/a/a6/Map_of_Maryland_highlighting_Garrett_County.svg/300px-Map_of_Maryland_highlighting_Garrett_County.svg.png 2x\" width=\"150\"/></a>\n",
       "</td></tr>\n",
       "<tr>\n",
       "<th scope=\"row\"><a href=\"/wiki/Harford_County,_Maryland\" title=\"Harford County, Maryland\">Harford County</a>\n",
       "</th>\n",
       "<td><a class=\"external text\" href=\"http://www.census.gov/quickfacts/table/PST045215/24025,00\" rel=\"nofollow\">025</a>\n",
       "</td>\n",
       "<td><a class=\"mw-redirect\" href=\"/wiki/Bel_Air,_Maryland\" title=\"Bel Air, Maryland\">Bel Air</a></td>\n",
       "<td>1773</td>\n",
       "<td>From part of Baltimore County</td>\n",
       "<td><a href=\"/wiki/Henry_Harford\" title=\"Henry Harford\">Henry Harford</a>, illegitimate son of <a href=\"/wiki/Frederick_Calvert,_6th_Baron_Baltimore\" title=\"Frederick Calvert, 6th Baron Baltimore\">Frederick Calvert, 6th Baron Baltimore</a></td>\n",
       "<td><a class=\"image\" href=\"/wiki/File:Flag_of_Harford_County,_Maryland.png\"><img alt=\"Flag of Harford County, Maryland.png\" data-file-height=\"216\" data-file-width=\"360\" decoding=\"async\" height=\"75\" src=\"//upload.wikimedia.org/wikipedia/commons/thumb/4/41/Flag_of_Harford_County%2C_Maryland.png/125px-Flag_of_Harford_County%2C_Maryland.png\" srcset=\"//upload.wikimedia.org/wikipedia/commons/thumb/4/41/Flag_of_Harford_County%2C_Maryland.png/188px-Flag_of_Harford_County%2C_Maryland.png 1.5x, //upload.wikimedia.org/wikipedia/commons/thumb/4/41/Flag_of_Harford_County%2C_Maryland.png/250px-Flag_of_Harford_County%2C_Maryland.png 2x\" width=\"125\"/></a></td>\n",
       "<td><a class=\"image\" href=\"/wiki/File:Seal_of_Harford_County,_Maryland.svg\"><img alt=\"Seal of Harford County, Maryland.svg\" data-file-height=\"503\" data-file-width=\"502\" decoding=\"async\" height=\"75\" src=\"//upload.wikimedia.org/wikipedia/commons/thumb/3/30/Seal_of_Harford_County%2C_Maryland.svg/75px-Seal_of_Harford_County%2C_Maryland.svg.png\" srcset=\"//upload.wikimedia.org/wikipedia/commons/thumb/3/30/Seal_of_Harford_County%2C_Maryland.svg/113px-Seal_of_Harford_County%2C_Maryland.svg.png 1.5x, //upload.wikimedia.org/wikipedia/commons/thumb/3/30/Seal_of_Harford_County%2C_Maryland.svg/150px-Seal_of_Harford_County%2C_Maryland.svg.png 2x\" width=\"75\"/></a>\n",
       "</td>\n",
       "<td><span data-sort-value=\"7005248622000000000♠\">248,622</span>\n",
       "</td>\n",
       "<td><span data-sort-value=\"7002527000000000000♠\">527</span> sq mi<br/>(<span data-sort-value=\"7003136500000000000♠\">1,365</span> km<sup>2</sup>)</td>\n",
       "<td><a class=\"image\" href=\"/wiki/File:Map_of_Maryland_highlighting_Harford_County.svg\" title=\"State map highlighting Harford County\"><img alt=\"State map highlighting Harford County\" data-file-height=\"2019\" data-file-width=\"3858\" decoding=\"async\" height=\"78\" src=\"//upload.wikimedia.org/wikipedia/commons/thumb/7/7c/Map_of_Maryland_highlighting_Harford_County.svg/150px-Map_of_Maryland_highlighting_Harford_County.svg.png\" srcset=\"//upload.wikimedia.org/wikipedia/commons/thumb/7/7c/Map_of_Maryland_highlighting_Harford_County.svg/225px-Map_of_Maryland_highlighting_Harford_County.svg.png 1.5x, //upload.wikimedia.org/wikipedia/commons/thumb/7/7c/Map_of_Maryland_highlighting_Harford_County.svg/300px-Map_of_Maryland_highlighting_Harford_County.svg.png 2x\" width=\"150\"/></a>\n",
       "</td></tr>\n",
       "<tr>\n",
       "<th scope=\"row\"><a href=\"/wiki/Howard_County,_Maryland\" title=\"Howard County, Maryland\">Howard County</a>\n",
       "</th>\n",
       "<td><a class=\"external text\" href=\"http://www.census.gov/quickfacts/table/PST045215/24027,00\" rel=\"nofollow\">027</a>\n",
       "</td>\n",
       "<td><a href=\"/wiki/Ellicott_City,_Maryland\" title=\"Ellicott City, Maryland\">Ellicott City</a></td>\n",
       "<td>1851</td>\n",
       "<td>From parts of Anne Arundel County and Baltimore County</td>\n",
       "<td><a class=\"mw-redirect\" href=\"/wiki/John_E._Howard\" title=\"John E. Howard\">John Eager Howard</a>, an <a href=\"/wiki/American_Revolutionary_War\" title=\"American Revolutionary War\">American Revolutionary War</a> officer and <a href=\"/wiki/Governor_of_Maryland\" title=\"Governor of Maryland\">governor of Maryland</a></td>\n",
       "<td><a class=\"image\" href=\"/wiki/File:Flag_of_Howard_County,_Maryland.svg\"><img alt=\"Flag of Howard County, Maryland.svg\" data-file-height=\"769\" data-file-width=\"1024\" decoding=\"async\" height=\"94\" src=\"//upload.wikimedia.org/wikipedia/commons/thumb/e/e9/Flag_of_Howard_County%2C_Maryland.svg/125px-Flag_of_Howard_County%2C_Maryland.svg.png\" srcset=\"//upload.wikimedia.org/wikipedia/commons/thumb/e/e9/Flag_of_Howard_County%2C_Maryland.svg/188px-Flag_of_Howard_County%2C_Maryland.svg.png 1.5x, //upload.wikimedia.org/wikipedia/commons/thumb/e/e9/Flag_of_Howard_County%2C_Maryland.svg/250px-Flag_of_Howard_County%2C_Maryland.svg.png 2x\" width=\"125\"/></a></td>\n",
       "<td><a class=\"image\" href=\"/wiki/File:Seal_of_Howard_County,_Maryland.png\"><img alt=\"Seal of Howard County, Maryland.png\" data-file-height=\"338\" data-file-width=\"341\" decoding=\"async\" height=\"74\" src=\"//upload.wikimedia.org/wikipedia/commons/thumb/b/b9/Seal_of_Howard_County%2C_Maryland.png/75px-Seal_of_Howard_County%2C_Maryland.png\" srcset=\"//upload.wikimedia.org/wikipedia/commons/thumb/b/b9/Seal_of_Howard_County%2C_Maryland.png/113px-Seal_of_Howard_County%2C_Maryland.png 1.5x, //upload.wikimedia.org/wikipedia/commons/thumb/b/b9/Seal_of_Howard_County%2C_Maryland.png/150px-Seal_of_Howard_County%2C_Maryland.png 2x\" width=\"75\"/></a>\n",
       "</td>\n",
       "<td><span data-sort-value=\"7005299430000000000♠\">299,430</span>\n",
       "</td>\n",
       "<td><span data-sort-value=\"7002254000000000000♠\">254</span> sq mi<br/>(<span data-sort-value=\"7002658000000000000♠\">658</span> km<sup>2</sup>)</td>\n",
       "<td><a class=\"image\" href=\"/wiki/File:Map_of_Maryland_highlighting_Howard_County.svg\" title=\"State map highlighting Howard County\"><img alt=\"State map highlighting Howard County\" data-file-height=\"2019\" data-file-width=\"3858\" decoding=\"async\" height=\"78\" src=\"//upload.wikimedia.org/wikipedia/commons/thumb/2/25/Map_of_Maryland_highlighting_Howard_County.svg/150px-Map_of_Maryland_highlighting_Howard_County.svg.png\" srcset=\"//upload.wikimedia.org/wikipedia/commons/thumb/2/25/Map_of_Maryland_highlighting_Howard_County.svg/225px-Map_of_Maryland_highlighting_Howard_County.svg.png 1.5x, //upload.wikimedia.org/wikipedia/commons/thumb/2/25/Map_of_Maryland_highlighting_Howard_County.svg/300px-Map_of_Maryland_highlighting_Howard_County.svg.png 2x\" width=\"150\"/></a>\n",
       "</td></tr>\n",
       "<tr>\n",
       "<th scope=\"row\"><a href=\"/wiki/Kent_County,_Maryland\" title=\"Kent County, Maryland\">Kent County</a>\n",
       "</th>\n",
       "<td><a class=\"external text\" href=\"http://www.census.gov/quickfacts/table/PST045215/24029,00\" rel=\"nofollow\">029</a>\n",
       "</td>\n",
       "<td><a href=\"/wiki/Chestertown,_Maryland\" title=\"Chestertown, Maryland\">Chestertown</a></td>\n",
       "<td>1642</td>\n",
       "<td>From unorganized territory</td>\n",
       "<td>The <a href=\"/wiki/England\" title=\"England\">English</a> county of <a href=\"/wiki/Kent\" title=\"Kent\">Kent</a></td>\n",
       "<td><a class=\"image\" href=\"/wiki/File:Flag_of_Kent_County,_Maryland.gif\"><img alt=\"Flag of Kent County, Maryland.gif\" data-file-height=\"240\" data-file-width=\"400\" decoding=\"async\" height=\"75\" src=\"//upload.wikimedia.org/wikipedia/commons/thumb/5/53/Flag_of_Kent_County%2C_Maryland.gif/125px-Flag_of_Kent_County%2C_Maryland.gif\" srcset=\"//upload.wikimedia.org/wikipedia/commons/thumb/5/53/Flag_of_Kent_County%2C_Maryland.gif/188px-Flag_of_Kent_County%2C_Maryland.gif 1.5x, //upload.wikimedia.org/wikipedia/commons/thumb/5/53/Flag_of_Kent_County%2C_Maryland.gif/250px-Flag_of_Kent_County%2C_Maryland.gif 2x\" width=\"125\"/></a></td>\n",
       "<td><a class=\"image\" href=\"/wiki/File:Seal_of_Kent_County,_Maryland.gif\"><img alt=\"Seal of Kent County, Maryland.gif\" data-file-height=\"182\" data-file-width=\"180\" decoding=\"async\" height=\"76\" src=\"//upload.wikimedia.org/wikipedia/commons/thumb/e/ed/Seal_of_Kent_County%2C_Maryland.gif/75px-Seal_of_Kent_County%2C_Maryland.gif\" srcset=\"//upload.wikimedia.org/wikipedia/commons/thumb/e/ed/Seal_of_Kent_County%2C_Maryland.gif/113px-Seal_of_Kent_County%2C_Maryland.gif 1.5x, //upload.wikimedia.org/wikipedia/commons/thumb/e/ed/Seal_of_Kent_County%2C_Maryland.gif/150px-Seal_of_Kent_County%2C_Maryland.gif 2x\" width=\"75\"/></a>\n",
       "</td>\n",
       "<td><span data-sort-value=\"7004201910000000000♠\">20,191</span>\n",
       "</td>\n",
       "<td><span data-sort-value=\"7002414000000000000♠\">414</span> sq mi<br/>(<span data-sort-value=\"7003107200000000000♠\">1,072</span> km<sup>2</sup>)</td>\n",
       "<td><a class=\"image\" href=\"/wiki/File:Map_of_Maryland_highlighting_Kent_County.svg\" title=\"State map highlighting Kent County\"><img alt=\"State map highlighting Kent County\" data-file-height=\"2019\" data-file-width=\"3858\" decoding=\"async\" height=\"78\" src=\"//upload.wikimedia.org/wikipedia/commons/thumb/7/72/Map_of_Maryland_highlighting_Kent_County.svg/150px-Map_of_Maryland_highlighting_Kent_County.svg.png\" srcset=\"//upload.wikimedia.org/wikipedia/commons/thumb/7/72/Map_of_Maryland_highlighting_Kent_County.svg/225px-Map_of_Maryland_highlighting_Kent_County.svg.png 1.5x, //upload.wikimedia.org/wikipedia/commons/thumb/7/72/Map_of_Maryland_highlighting_Kent_County.svg/300px-Map_of_Maryland_highlighting_Kent_County.svg.png 2x\" width=\"150\"/></a>\n",
       "</td></tr>\n",
       "<tr>\n",
       "<th scope=\"row\"><a href=\"/wiki/Montgomery_County,_Maryland\" title=\"Montgomery County, Maryland\">Montgomery County</a>\n",
       "</th>\n",
       "<td><a class=\"external text\" href=\"http://www.census.gov/quickfacts/table/PST045215/24031,00\" rel=\"nofollow\">031</a>\n",
       "</td>\n",
       "<td><a href=\"/wiki/Rockville,_Maryland\" title=\"Rockville, Maryland\">Rockville</a></td>\n",
       "<td>1776</td>\n",
       "<td>From part of Frederick County</td>\n",
       "<td><a href=\"/wiki/Richard_Montgomery\" title=\"Richard Montgomery\">Richard Montgomery</a>, an <a href=\"/wiki/American_Revolutionary_War\" title=\"American Revolutionary War\">American Revolutionary War</a> general</td>\n",
       "<td><a class=\"image\" href=\"/wiki/File:Flag_of_Montgomery_County,_Maryland.svg\"><img alt=\"Flag of Montgomery County, Maryland.svg\" data-file-height=\"200\" data-file-width=\"300\" decoding=\"async\" height=\"83\" src=\"//upload.wikimedia.org/wikipedia/commons/thumb/e/e4/Flag_of_Montgomery_County%2C_Maryland.svg/125px-Flag_of_Montgomery_County%2C_Maryland.svg.png\" srcset=\"//upload.wikimedia.org/wikipedia/commons/thumb/e/e4/Flag_of_Montgomery_County%2C_Maryland.svg/188px-Flag_of_Montgomery_County%2C_Maryland.svg.png 1.5x, //upload.wikimedia.org/wikipedia/commons/thumb/e/e4/Flag_of_Montgomery_County%2C_Maryland.svg/250px-Flag_of_Montgomery_County%2C_Maryland.svg.png 2x\" width=\"125\"/></a></td>\n",
       "<td><a class=\"image\" href=\"/wiki/File:Seal_of_Montgomery_County,_Maryland.svg\"><img alt=\"Seal of Montgomery County, Maryland.svg\" data-file-height=\"983\" data-file-width=\"983\" decoding=\"async\" height=\"75\" src=\"//upload.wikimedia.org/wikipedia/commons/thumb/a/af/Seal_of_Montgomery_County%2C_Maryland.svg/75px-Seal_of_Montgomery_County%2C_Maryland.svg.png\" srcset=\"//upload.wikimedia.org/wikipedia/commons/thumb/a/af/Seal_of_Montgomery_County%2C_Maryland.svg/113px-Seal_of_Montgomery_County%2C_Maryland.svg.png 1.5x, //upload.wikimedia.org/wikipedia/commons/thumb/a/af/Seal_of_Montgomery_County%2C_Maryland.svg/150px-Seal_of_Montgomery_County%2C_Maryland.svg.png 2x\" width=\"75\"/></a>\n",
       "</td>\n",
       "<td><span data-sort-value=\"7006100470900000000♠\">1,004,709</span>\n",
       "</td>\n",
       "<td><span data-sort-value=\"7002507000000000000♠\">507</span> sq mi<br/>(<span data-sort-value=\"7003131300000000000♠\">1,313</span> km<sup>2</sup>)</td>\n",
       "<td><a class=\"image\" href=\"/wiki/File:Map_of_Maryland_highlighting_Montgomery_County.svg\" title=\"State map highlighting Montgomery County\"><img alt=\"State map highlighting Montgomery County\" data-file-height=\"2019\" data-file-width=\"3858\" decoding=\"async\" height=\"78\" src=\"//upload.wikimedia.org/wikipedia/commons/thumb/6/6c/Map_of_Maryland_highlighting_Montgomery_County.svg/150px-Map_of_Maryland_highlighting_Montgomery_County.svg.png\" srcset=\"//upload.wikimedia.org/wikipedia/commons/thumb/6/6c/Map_of_Maryland_highlighting_Montgomery_County.svg/225px-Map_of_Maryland_highlighting_Montgomery_County.svg.png 1.5x, //upload.wikimedia.org/wikipedia/commons/thumb/6/6c/Map_of_Maryland_highlighting_Montgomery_County.svg/300px-Map_of_Maryland_highlighting_Montgomery_County.svg.png 2x\" width=\"150\"/></a>\n",
       "</td></tr>\n",
       "<tr>\n",
       "<th scope=\"row\"><a href=\"/wiki/Prince_George%27s_County,_Maryland\" title=\"Prince George's County, Maryland\">Prince George's County</a>\n",
       "</th>\n",
       "<td><a class=\"external text\" href=\"http://www.census.gov/quickfacts/table/PST045215/24033,00\" rel=\"nofollow\">033</a>\n",
       "</td>\n",
       "<td><a href=\"/wiki/Upper_Marlboro,_Maryland\" title=\"Upper Marlboro, Maryland\">Upper Marlboro</a></td>\n",
       "<td>1696</td>\n",
       "<td>From parts of Calvert County and Charles County</td>\n",
       "<td><a class=\"mw-redirect\" href=\"/wiki/George_of_Denmark\" title=\"George of Denmark\">Prince George of Denmark</a>, the husband of Queen <a href=\"/wiki/Anne,_Queen_of_Great_Britain\" title=\"Anne, Queen of Great Britain\">Anne of Great Britain</a></td>\n",
       "<td><a class=\"image\" href=\"/wiki/File:Flag_of_Prince_George%27s_County,_Maryland.svg\"><img alt=\"Flag of Prince George's County, Maryland.svg\" data-file-height=\"480\" data-file-width=\"800\" decoding=\"async\" height=\"75\" src=\"//upload.wikimedia.org/wikipedia/commons/thumb/8/81/Flag_of_Prince_George%27s_County%2C_Maryland.svg/125px-Flag_of_Prince_George%27s_County%2C_Maryland.svg.png\" srcset=\"//upload.wikimedia.org/wikipedia/commons/thumb/8/81/Flag_of_Prince_George%27s_County%2C_Maryland.svg/188px-Flag_of_Prince_George%27s_County%2C_Maryland.svg.png 1.5x, //upload.wikimedia.org/wikipedia/commons/thumb/8/81/Flag_of_Prince_George%27s_County%2C_Maryland.svg/250px-Flag_of_Prince_George%27s_County%2C_Maryland.svg.png 2x\" width=\"125\"/></a></td>\n",
       "<td><a class=\"image\" href=\"/wiki/File:Seal_of_Prince_George%27s_County,_Maryland.svg\"><img alt=\"Seal of Prince George's County, Maryland.svg\" data-file-height=\"1024\" data-file-width=\"794\" decoding=\"async\" height=\"97\" src=\"//upload.wikimedia.org/wikipedia/commons/thumb/c/c8/Seal_of_Prince_George%27s_County%2C_Maryland.svg/75px-Seal_of_Prince_George%27s_County%2C_Maryland.svg.png\" srcset=\"//upload.wikimedia.org/wikipedia/commons/thumb/c/c8/Seal_of_Prince_George%27s_County%2C_Maryland.svg/113px-Seal_of_Prince_George%27s_County%2C_Maryland.svg.png 1.5x, //upload.wikimedia.org/wikipedia/commons/thumb/c/c8/Seal_of_Prince_George%27s_County%2C_Maryland.svg/150px-Seal_of_Prince_George%27s_County%2C_Maryland.svg.png 2x\" width=\"75\"/></a>\n",
       "</td>\n",
       "<td><span data-sort-value=\"7005881138000000000♠\">881,138</span>\n",
       "</td>\n",
       "<td><span data-sort-value=\"7002498000000000000♠\">498</span> sq mi<br/>(<span data-sort-value=\"7003129000000000000♠\">1,290</span> km<sup>2</sup>)</td>\n",
       "<td><a class=\"image\" href=\"/wiki/File:Map_of_Maryland_highlighting_Prince_George%27s_County.svg\" title=\"State map highlighting Prince George's County\"><img alt=\"State map highlighting Prince George's County\" data-file-height=\"2019\" data-file-width=\"3858\" decoding=\"async\" height=\"78\" src=\"//upload.wikimedia.org/wikipedia/commons/thumb/9/93/Map_of_Maryland_highlighting_Prince_George%27s_County.svg/150px-Map_of_Maryland_highlighting_Prince_George%27s_County.svg.png\" srcset=\"//upload.wikimedia.org/wikipedia/commons/thumb/9/93/Map_of_Maryland_highlighting_Prince_George%27s_County.svg/225px-Map_of_Maryland_highlighting_Prince_George%27s_County.svg.png 1.5x, //upload.wikimedia.org/wikipedia/commons/thumb/9/93/Map_of_Maryland_highlighting_Prince_George%27s_County.svg/300px-Map_of_Maryland_highlighting_Prince_George%27s_County.svg.png 2x\" width=\"150\"/></a>\n",
       "</td></tr>\n",
       "<tr>\n",
       "<th scope=\"row\"><a href=\"/wiki/Queen_Anne%27s_County,_Maryland\" title=\"Queen Anne's County, Maryland\">Queen Anne's County</a>\n",
       "</th>\n",
       "<td><a class=\"external text\" href=\"http://www.census.gov/quickfacts/table/PST045215/24035,00\" rel=\"nofollow\">035</a>\n",
       "</td>\n",
       "<td><a href=\"/wiki/Centreville,_Maryland\" title=\"Centreville, Maryland\">Centreville</a></td>\n",
       "<td>1706</td>\n",
       "<td>From parts of Talbot County</td>\n",
       "<td><a href=\"/wiki/Anne,_Queen_of_Great_Britain\" title=\"Anne, Queen of Great Britain\">Anne, Queen of Great Britain</a></td>\n",
       "<td><a class=\"image\" href=\"/wiki/File:Flag_of_Queen_Anne%27s_County,_Maryland.gif\"><img alt=\"Flag of Queen Anne's County, Maryland.gif\" data-file-height=\"216\" data-file-width=\"360\" decoding=\"async\" height=\"75\" src=\"//upload.wikimedia.org/wikipedia/commons/thumb/3/3f/Flag_of_Queen_Anne%27s_County%2C_Maryland.gif/125px-Flag_of_Queen_Anne%27s_County%2C_Maryland.gif\" srcset=\"//upload.wikimedia.org/wikipedia/commons/thumb/3/3f/Flag_of_Queen_Anne%27s_County%2C_Maryland.gif/188px-Flag_of_Queen_Anne%27s_County%2C_Maryland.gif 1.5x, //upload.wikimedia.org/wikipedia/commons/thumb/3/3f/Flag_of_Queen_Anne%27s_County%2C_Maryland.gif/250px-Flag_of_Queen_Anne%27s_County%2C_Maryland.gif 2x\" width=\"125\"/></a></td>\n",
       "<td><a class=\"image\" href=\"/wiki/File:Seal_of_Queen_Anne%27s_County,_Maryland.png\"><img alt=\"Seal of Queen Anne's County, Maryland.png\" data-file-height=\"180\" data-file-width=\"180\" decoding=\"async\" height=\"75\" src=\"//upload.wikimedia.org/wikipedia/commons/thumb/e/e9/Seal_of_Queen_Anne%27s_County%2C_Maryland.png/75px-Seal_of_Queen_Anne%27s_County%2C_Maryland.png\" srcset=\"//upload.wikimedia.org/wikipedia/commons/thumb/e/e9/Seal_of_Queen_Anne%27s_County%2C_Maryland.png/113px-Seal_of_Queen_Anne%27s_County%2C_Maryland.png 1.5x, //upload.wikimedia.org/wikipedia/commons/thumb/e/e9/Seal_of_Queen_Anne%27s_County%2C_Maryland.png/150px-Seal_of_Queen_Anne%27s_County%2C_Maryland.png 2x\" width=\"75\"/></a>\n",
       "</td>\n",
       "<td><span data-sort-value=\"7004485950000000000♠\">48,595</span>\n",
       "</td>\n",
       "<td><span data-sort-value=\"7002510000000000000♠\">510</span> sq mi<br/>(<span data-sort-value=\"7003132100000000000♠\">1,321</span> km<sup>2</sup>)</td>\n",
       "<td><a class=\"image\" href=\"/wiki/File:Map_of_Maryland_highlighting_Queen_Anne%27s_County.svg\" title=\"State map highlighting Queen Anne's County\"><img alt=\"State map highlighting Queen Anne's County\" data-file-height=\"2019\" data-file-width=\"3858\" decoding=\"async\" height=\"78\" src=\"//upload.wikimedia.org/wikipedia/commons/thumb/6/6a/Map_of_Maryland_highlighting_Queen_Anne%27s_County.svg/150px-Map_of_Maryland_highlighting_Queen_Anne%27s_County.svg.png\" srcset=\"//upload.wikimedia.org/wikipedia/commons/thumb/6/6a/Map_of_Maryland_highlighting_Queen_Anne%27s_County.svg/225px-Map_of_Maryland_highlighting_Queen_Anne%27s_County.svg.png 1.5x, //upload.wikimedia.org/wikipedia/commons/thumb/6/6a/Map_of_Maryland_highlighting_Queen_Anne%27s_County.svg/300px-Map_of_Maryland_highlighting_Queen_Anne%27s_County.svg.png 2x\" width=\"150\"/></a>\n",
       "</td></tr>\n",
       "<tr>\n",
       "<th scope=\"row\"><a href=\"/wiki/Somerset_County,_Maryland\" title=\"Somerset County, Maryland\">Somerset County</a>\n",
       "</th>\n",
       "<td><a class=\"external text\" href=\"http://www.census.gov/quickfacts/table/PST045215/24039,00\" rel=\"nofollow\">039</a>\n",
       "</td>\n",
       "<td><a href=\"/wiki/Princess_Anne,_Maryland\" title=\"Princess Anne, Maryland\">Princess Anne</a></td>\n",
       "<td>1666</td>\n",
       "<td>From unorganized territory.</td>\n",
       "<td>Mary, Lady Somerset, sister-in-law of <a href=\"/wiki/Cecil_Calvert,_2nd_Baron_Baltimore\" title=\"Cecil Calvert, 2nd Baron Baltimore\">Cecil Calvert, 2nd Baron Baltimore</a></td>\n",
       "<td><a class=\"image\" href=\"/wiki/File:Flag_of_Somerset_County,_Maryland.svg\"><img alt=\"Flag of Somerset County, Maryland.svg\" data-file-height=\"1232\" data-file-width=\"1952\" decoding=\"async\" height=\"79\" src=\"//upload.wikimedia.org/wikipedia/commons/thumb/d/d2/Flag_of_Somerset_County%2C_Maryland.svg/125px-Flag_of_Somerset_County%2C_Maryland.svg.png\" srcset=\"//upload.wikimedia.org/wikipedia/commons/thumb/d/d2/Flag_of_Somerset_County%2C_Maryland.svg/188px-Flag_of_Somerset_County%2C_Maryland.svg.png 1.5x, //upload.wikimedia.org/wikipedia/commons/thumb/d/d2/Flag_of_Somerset_County%2C_Maryland.svg/250px-Flag_of_Somerset_County%2C_Maryland.svg.png 2x\" width=\"125\"/></a></td>\n",
       "<td><a class=\"image\" href=\"/wiki/File:Seal_of_Somerset_County,_Maryland.png\"><img alt=\"Seal of Somerset County, Maryland.png\" data-file-height=\"378\" data-file-width=\"324\" decoding=\"async\" height=\"88\" src=\"//upload.wikimedia.org/wikipedia/commons/thumb/e/ee/Seal_of_Somerset_County%2C_Maryland.png/75px-Seal_of_Somerset_County%2C_Maryland.png\" srcset=\"//upload.wikimedia.org/wikipedia/commons/thumb/e/ee/Seal_of_Somerset_County%2C_Maryland.png/113px-Seal_of_Somerset_County%2C_Maryland.png 1.5x, //upload.wikimedia.org/wikipedia/commons/thumb/e/ee/Seal_of_Somerset_County%2C_Maryland.png/150px-Seal_of_Somerset_County%2C_Maryland.png 2x\" width=\"75\"/></a>\n",
       "</td>\n",
       "<td><span data-sort-value=\"7004262530000000000♠\">26,253</span>\n",
       "</td>\n",
       "<td><span data-sort-value=\"7002611000000000000♠\">611</span> sq mi<br/>(<span data-sort-value=\"7003158200000000000♠\">1,582</span> km<sup>2</sup>)</td>\n",
       "<td><a class=\"image\" href=\"/wiki/File:Map_of_Maryland_highlighting_Somerset_County.svg\" title=\"State map highlighting Somerset County\"><img alt=\"State map highlighting Somerset County\" data-file-height=\"2019\" data-file-width=\"3858\" decoding=\"async\" height=\"78\" src=\"//upload.wikimedia.org/wikipedia/commons/thumb/9/9a/Map_of_Maryland_highlighting_Somerset_County.svg/150px-Map_of_Maryland_highlighting_Somerset_County.svg.png\" srcset=\"//upload.wikimedia.org/wikipedia/commons/thumb/9/9a/Map_of_Maryland_highlighting_Somerset_County.svg/225px-Map_of_Maryland_highlighting_Somerset_County.svg.png 1.5x, //upload.wikimedia.org/wikipedia/commons/thumb/9/9a/Map_of_Maryland_highlighting_Somerset_County.svg/300px-Map_of_Maryland_highlighting_Somerset_County.svg.png 2x\" width=\"150\"/></a>\n",
       "</td></tr>\n",
       "<tr>\n",
       "<th scope=\"row\"><a href=\"/wiki/St._Mary%27s_County,_Maryland\" title=\"St. Mary's County, Maryland\">St. Mary's County</a>\n",
       "</th>\n",
       "<td><a class=\"external text\" href=\"http://www.census.gov/quickfacts/table/PST045215/24037,00\" rel=\"nofollow\">037</a>\n",
       "</td>\n",
       "<td><a href=\"/wiki/Leonardtown,_Maryland\" title=\"Leonardtown, Maryland\">Leonardtown</a></td>\n",
       "<td>1637</td>\n",
       "<td>From unorganized territory. Was named Potomac County between 1654 and 1658.</td>\n",
       "<td><a class=\"mw-redirect\" href=\"/wiki/Mary,_the_mother_of_Jesus\" title=\"Mary, the mother of Jesus\">The Virgin Mary</a>, first county named in a colony intended to be a haven for Catholics</td>\n",
       "<td><a class=\"image\" href=\"/wiki/File:Flag_of_St._Mary%27s_County,_Maryland.png\"><img alt=\"Flag of St. Mary's County, Maryland.png\" data-file-height=\"834\" data-file-width=\"1666\" decoding=\"async\" height=\"63\" src=\"//upload.wikimedia.org/wikipedia/commons/thumb/d/d2/Flag_of_St._Mary%27s_County%2C_Maryland.png/125px-Flag_of_St._Mary%27s_County%2C_Maryland.png\" srcset=\"//upload.wikimedia.org/wikipedia/commons/thumb/d/d2/Flag_of_St._Mary%27s_County%2C_Maryland.png/188px-Flag_of_St._Mary%27s_County%2C_Maryland.png 1.5x, //upload.wikimedia.org/wikipedia/commons/thumb/d/d2/Flag_of_St._Mary%27s_County%2C_Maryland.png/250px-Flag_of_St._Mary%27s_County%2C_Maryland.png 2x\" width=\"125\"/></a></td>\n",
       "<td><a class=\"image\" href=\"/wiki/File:Seal_of_St._Mary%27s_County,_Maryland.png\"><img alt=\"Seal of St. Mary's County, Maryland.png\" data-file-height=\"464\" data-file-width=\"464\" decoding=\"async\" height=\"75\" src=\"//upload.wikimedia.org/wikipedia/commons/thumb/b/bc/Seal_of_St._Mary%27s_County%2C_Maryland.png/75px-Seal_of_St._Mary%27s_County%2C_Maryland.png\" srcset=\"//upload.wikimedia.org/wikipedia/commons/thumb/b/bc/Seal_of_St._Mary%27s_County%2C_Maryland.png/113px-Seal_of_St._Mary%27s_County%2C_Maryland.png 1.5x, //upload.wikimedia.org/wikipedia/commons/thumb/b/bc/Seal_of_St._Mary%27s_County%2C_Maryland.png/150px-Seal_of_St._Mary%27s_County%2C_Maryland.png 2x\" width=\"75\"/></a>\n",
       "</td>\n",
       "<td><span data-sort-value=\"7005108987000000000♠\">108,987</span>\n",
       "</td>\n",
       "<td><span data-sort-value=\"7002611000000000000♠\">611</span> sq mi<br/>(<span data-sort-value=\"7003158200000000000♠\">1,582</span> km<sup>2</sup>)</td>\n",
       "<td><a class=\"image\" href=\"/wiki/File:Map_of_Maryland_highlighting_Saint_Mary%27s_County.svg\" title=\"State map highlighting St. Mary's County\"><img alt=\"State map highlighting St. Mary's County\" data-file-height=\"2019\" data-file-width=\"3858\" decoding=\"async\" height=\"78\" src=\"//upload.wikimedia.org/wikipedia/commons/thumb/b/b6/Map_of_Maryland_highlighting_Saint_Mary%27s_County.svg/150px-Map_of_Maryland_highlighting_Saint_Mary%27s_County.svg.png\" srcset=\"//upload.wikimedia.org/wikipedia/commons/thumb/b/b6/Map_of_Maryland_highlighting_Saint_Mary%27s_County.svg/225px-Map_of_Maryland_highlighting_Saint_Mary%27s_County.svg.png 1.5x, //upload.wikimedia.org/wikipedia/commons/thumb/b/b6/Map_of_Maryland_highlighting_Saint_Mary%27s_County.svg/300px-Map_of_Maryland_highlighting_Saint_Mary%27s_County.svg.png 2x\" width=\"150\"/></a>\n",
       "</td></tr>\n",
       "<tr>\n",
       "<th scope=\"row\"><a href=\"/wiki/Talbot_County,_Maryland\" title=\"Talbot County, Maryland\">Talbot County</a>\n",
       "</th>\n",
       "<td><a class=\"external text\" href=\"http://www.census.gov/quickfacts/table/PST045215/24041,00\" rel=\"nofollow\">041</a>\n",
       "</td>\n",
       "<td><a href=\"/wiki/Easton,_Maryland\" title=\"Easton, Maryland\">Easton</a></td>\n",
       "<td>1662</td>\n",
       "<td>From part of Kent County</td>\n",
       "<td>Grace, Lady Talbot, sister of <a href=\"/wiki/Cecil_Calvert,_2nd_Baron_Baltimore\" title=\"Cecil Calvert, 2nd Baron Baltimore\">Cecil Calvert, 2nd Baron Baltimore</a></td>\n",
       "<td><a class=\"image\" href=\"/wiki/File:Flag_of_Talbot_County,_Maryland.svg\"><img alt=\"Flag of Talbot County, Maryland.svg\" data-file-height=\"860\" data-file-width=\"1429\" decoding=\"async\" height=\"75\" src=\"//upload.wikimedia.org/wikipedia/commons/thumb/9/9d/Flag_of_Talbot_County%2C_Maryland.svg/125px-Flag_of_Talbot_County%2C_Maryland.svg.png\" srcset=\"//upload.wikimedia.org/wikipedia/commons/thumb/9/9d/Flag_of_Talbot_County%2C_Maryland.svg/188px-Flag_of_Talbot_County%2C_Maryland.svg.png 1.5x, //upload.wikimedia.org/wikipedia/commons/thumb/9/9d/Flag_of_Talbot_County%2C_Maryland.svg/250px-Flag_of_Talbot_County%2C_Maryland.svg.png 2x\" width=\"125\"/></a></td>\n",
       "<td><a class=\"image\" href=\"/wiki/File:Seal_of_Talbot_County,_Maryland.png\"><img alt=\"Seal of Talbot County, Maryland.png\" data-file-height=\"184\" data-file-width=\"184\" decoding=\"async\" height=\"75\" src=\"//upload.wikimedia.org/wikipedia/commons/thumb/e/eb/Seal_of_Talbot_County%2C_Maryland.png/75px-Seal_of_Talbot_County%2C_Maryland.png\" srcset=\"//upload.wikimedia.org/wikipedia/commons/thumb/e/eb/Seal_of_Talbot_County%2C_Maryland.png/113px-Seal_of_Talbot_County%2C_Maryland.png 1.5x, //upload.wikimedia.org/wikipedia/commons/thumb/e/eb/Seal_of_Talbot_County%2C_Maryland.png/150px-Seal_of_Talbot_County%2C_Maryland.png 2x\" width=\"75\"/></a>\n",
       "</td>\n",
       "<td><span data-sort-value=\"7004380980000000000♠\">38,098</span>\n",
       "</td>\n",
       "<td><span data-sort-value=\"7002477000000000000♠\">477</span> sq mi<br/>(<span data-sort-value=\"7003123500000000000♠\">1,235</span> km<sup>2</sup>)</td>\n",
       "<td><a class=\"image\" href=\"/wiki/File:Map_of_Maryland_highlighting_Talbot_County.svg\" title=\"State map highlighting Talbot County\"><img alt=\"State map highlighting Talbot County\" data-file-height=\"2019\" data-file-width=\"3858\" decoding=\"async\" height=\"78\" src=\"//upload.wikimedia.org/wikipedia/commons/thumb/3/3b/Map_of_Maryland_highlighting_Talbot_County.svg/150px-Map_of_Maryland_highlighting_Talbot_County.svg.png\" srcset=\"//upload.wikimedia.org/wikipedia/commons/thumb/3/3b/Map_of_Maryland_highlighting_Talbot_County.svg/225px-Map_of_Maryland_highlighting_Talbot_County.svg.png 1.5x, //upload.wikimedia.org/wikipedia/commons/thumb/3/3b/Map_of_Maryland_highlighting_Talbot_County.svg/300px-Map_of_Maryland_highlighting_Talbot_County.svg.png 2x\" width=\"150\"/></a>\n",
       "</td></tr>\n",
       "<tr>\n",
       "<th scope=\"row\"><a href=\"/wiki/Washington_County,_Maryland\" title=\"Washington County, Maryland\">Washington County</a>\n",
       "</th>\n",
       "<td><a class=\"external text\" href=\"http://www.census.gov/quickfacts/table/PST045215/24043,00\" rel=\"nofollow\">043</a>\n",
       "</td>\n",
       "<td><a href=\"/wiki/Hagerstown,_Maryland\" title=\"Hagerstown, Maryland\">Hagerstown</a></td>\n",
       "<td>1776</td>\n",
       "<td>From part of Frederick County</td>\n",
       "<td><a href=\"/wiki/George_Washington\" title=\"George Washington\">George Washington</a>, first <a href=\"/wiki/President_of_the_United_States\" title=\"President of the United States\">President of the United States</a></td>\n",
       "<td><a class=\"image\" href=\"/wiki/File:Flag_of_Washington_County,_Maryland.svg\"><img alt=\"Flag of Washington County, Maryland.svg\" data-file-height=\"1163\" data-file-width=\"1798\" decoding=\"async\" height=\"81\" src=\"//upload.wikimedia.org/wikipedia/commons/thumb/f/f2/Flag_of_Washington_County%2C_Maryland.svg/125px-Flag_of_Washington_County%2C_Maryland.svg.png\" srcset=\"//upload.wikimedia.org/wikipedia/commons/thumb/f/f2/Flag_of_Washington_County%2C_Maryland.svg/188px-Flag_of_Washington_County%2C_Maryland.svg.png 1.5x, //upload.wikimedia.org/wikipedia/commons/thumb/f/f2/Flag_of_Washington_County%2C_Maryland.svg/250px-Flag_of_Washington_County%2C_Maryland.svg.png 2x\" width=\"125\"/></a></td>\n",
       "<td><a href=\"/wiki/File:Washington_County_md_seal.png\" title=\"File:Washington County md seal.png\">Link to image</a>\n",
       "</td>\n",
       "<td><span data-sort-value=\"7005149180000000000♠\">149,180</span>\n",
       "</td>\n",
       "<td><span data-sort-value=\"7002468000000000000♠\">468</span> sq mi<br/>(<span data-sort-value=\"7003121200000000000♠\">1,212</span> km<sup>2</sup>)</td>\n",
       "<td><a class=\"image\" href=\"/wiki/File:Map_of_Maryland_highlighting_Washington_County.svg\" title=\"State map highlighting Washington County\"><img alt=\"State map highlighting Washington County\" data-file-height=\"2019\" data-file-width=\"3858\" decoding=\"async\" height=\"78\" src=\"//upload.wikimedia.org/wikipedia/commons/thumb/4/48/Map_of_Maryland_highlighting_Washington_County.svg/150px-Map_of_Maryland_highlighting_Washington_County.svg.png\" srcset=\"//upload.wikimedia.org/wikipedia/commons/thumb/4/48/Map_of_Maryland_highlighting_Washington_County.svg/225px-Map_of_Maryland_highlighting_Washington_County.svg.png 1.5x, //upload.wikimedia.org/wikipedia/commons/thumb/4/48/Map_of_Maryland_highlighting_Washington_County.svg/300px-Map_of_Maryland_highlighting_Washington_County.svg.png 2x\" width=\"150\"/></a>\n",
       "</td></tr>\n",
       "<tr>\n",
       "<th scope=\"row\"><a href=\"/wiki/Wicomico_County,_Maryland\" title=\"Wicomico County, Maryland\">Wicomico County</a>\n",
       "</th>\n",
       "<td><a class=\"external text\" href=\"http://www.census.gov/quickfacts/table/PST045215/24045,00\" rel=\"nofollow\">045</a>\n",
       "</td>\n",
       "<td><a href=\"/wiki/Salisbury,_Maryland\" title=\"Salisbury, Maryland\">Salisbury</a></td>\n",
       "<td>1867</td>\n",
       "<td>From parts of Somerset County and Worcester County</td>\n",
       "<td>The <a href=\"/wiki/Wicomico_River_(Maryland_eastern_shore)\" title=\"Wicomico River (Maryland eastern shore)\">Wicomico River</a>; in <a href=\"/wiki/Lenape\" title=\"Lenape\">Lenape</a>, <i>wicko mekee</i> indicated \"a place where houses are built,\" possibly in reference to a settlement</td>\n",
       "<td><a class=\"image\" href=\"/wiki/File:Flag_of_Wicomico_County,_Maryland.gif\"><img alt=\"Flag of Wicomico County, Maryland.gif\" data-file-height=\"240\" data-file-width=\"400\" decoding=\"async\" height=\"75\" src=\"//upload.wikimedia.org/wikipedia/commons/thumb/e/e9/Flag_of_Wicomico_County%2C_Maryland.gif/125px-Flag_of_Wicomico_County%2C_Maryland.gif\" srcset=\"//upload.wikimedia.org/wikipedia/commons/thumb/e/e9/Flag_of_Wicomico_County%2C_Maryland.gif/188px-Flag_of_Wicomico_County%2C_Maryland.gif 1.5x, //upload.wikimedia.org/wikipedia/commons/thumb/e/e9/Flag_of_Wicomico_County%2C_Maryland.gif/250px-Flag_of_Wicomico_County%2C_Maryland.gif 2x\" width=\"125\"/></a></td>\n",
       "<td><a class=\"image\" href=\"/wiki/File:Seal_of_Wicomico_County,_Maryland.png\"><img alt=\"Seal of Wicomico County, Maryland.png\" data-file-height=\"180\" data-file-width=\"180\" decoding=\"async\" height=\"75\" src=\"//upload.wikimedia.org/wikipedia/commons/thumb/a/af/Seal_of_Wicomico_County%2C_Maryland.png/75px-Seal_of_Wicomico_County%2C_Maryland.png\" srcset=\"//upload.wikimedia.org/wikipedia/commons/thumb/a/af/Seal_of_Wicomico_County%2C_Maryland.png/113px-Seal_of_Wicomico_County%2C_Maryland.png 1.5x, //upload.wikimedia.org/wikipedia/commons/thumb/a/af/Seal_of_Wicomico_County%2C_Maryland.png/150px-Seal_of_Wicomico_County%2C_Maryland.png 2x\" width=\"75\"/></a>\n",
       "</td>\n",
       "<td><span data-sort-value=\"7005100647000000000♠\">100,647</span>\n",
       "</td>\n",
       "<td><span data-sort-value=\"7002400000000000000♠\">400</span> sq mi<br/>(<span data-sort-value=\"7003103600000000000♠\">1,036</span> km<sup>2</sup>)</td>\n",
       "<td><a class=\"image\" href=\"/wiki/File:Map_of_Maryland_highlighting_Wicomico_County.svg\" title=\"State map highlighting Wicomico County\"><img alt=\"State map highlighting Wicomico County\" data-file-height=\"2019\" data-file-width=\"3858\" decoding=\"async\" height=\"78\" src=\"//upload.wikimedia.org/wikipedia/commons/thumb/8/8d/Map_of_Maryland_highlighting_Wicomico_County.svg/150px-Map_of_Maryland_highlighting_Wicomico_County.svg.png\" srcset=\"//upload.wikimedia.org/wikipedia/commons/thumb/8/8d/Map_of_Maryland_highlighting_Wicomico_County.svg/225px-Map_of_Maryland_highlighting_Wicomico_County.svg.png 1.5x, //upload.wikimedia.org/wikipedia/commons/thumb/8/8d/Map_of_Maryland_highlighting_Wicomico_County.svg/300px-Map_of_Maryland_highlighting_Wicomico_County.svg.png 2x\" width=\"150\"/></a>\n",
       "</td></tr>\n",
       "<tr>\n",
       "<th scope=\"row\"><a href=\"/wiki/Worcester_County,_Maryland\" title=\"Worcester County, Maryland\">Worcester County</a>\n",
       "</th>\n",
       "<td><a class=\"external text\" href=\"http://www.census.gov/quickfacts/table/PST045215/24047,00\" rel=\"nofollow\">047</a>\n",
       "</td>\n",
       "<td><a href=\"/wiki/Snow_Hill,_Maryland\" title=\"Snow Hill, Maryland\">Snow Hill</a></td>\n",
       "<td>1742</td>\n",
       "<td>From part of Somerset County</td>\n",
       "<td>Mary Arundell, the wife of Sir John Somerset, son of <a href=\"/wiki/Henry_Somerset,_1st_Marquess_of_Worcester\" title=\"Henry Somerset, 1st Marquess of Worcester\">Henry Somerset, 1st Marquess of Worcester</a>, and sister of Anne Arundell, the wife of <a href=\"/wiki/Cecil_Calvert,_2nd_Baron_Baltimore\" title=\"Cecil Calvert, 2nd Baron Baltimore\">Cecil Calvert, 2nd Baron Baltimore</a></td>\n",
       "<td><a class=\"image\" href=\"/wiki/File:Flag_of_Worcester_County,_Maryland.svg\"><img alt=\"Flag of Worcester County, Maryland.svg\" data-file-height=\"1410\" data-file-width=\"2179\" decoding=\"async\" height=\"81\" src=\"//upload.wikimedia.org/wikipedia/commons/thumb/6/6c/Flag_of_Worcester_County%2C_Maryland.svg/125px-Flag_of_Worcester_County%2C_Maryland.svg.png\" srcset=\"//upload.wikimedia.org/wikipedia/commons/thumb/6/6c/Flag_of_Worcester_County%2C_Maryland.svg/188px-Flag_of_Worcester_County%2C_Maryland.svg.png 1.5x, //upload.wikimedia.org/wikipedia/commons/thumb/6/6c/Flag_of_Worcester_County%2C_Maryland.svg/250px-Flag_of_Worcester_County%2C_Maryland.svg.png 2x\" width=\"125\"/></a></td>\n",
       "<td><a class=\"image\" href=\"/wiki/File:Seal_of_Worcester_County,_Maryland.png\"><img alt=\"Seal of Worcester County, Maryland.png\" data-file-height=\"999\" data-file-width=\"999\" decoding=\"async\" height=\"75\" src=\"//upload.wikimedia.org/wikipedia/commons/thumb/7/70/Seal_of_Worcester_County%2C_Maryland.png/75px-Seal_of_Worcester_County%2C_Maryland.png\" srcset=\"//upload.wikimedia.org/wikipedia/commons/thumb/7/70/Seal_of_Worcester_County%2C_Maryland.png/113px-Seal_of_Worcester_County%2C_Maryland.png 1.5x, //upload.wikimedia.org/wikipedia/commons/thumb/7/70/Seal_of_Worcester_County%2C_Maryland.png/150px-Seal_of_Worcester_County%2C_Maryland.png 2x\" width=\"75\"/></a>\n",
       "</td>\n",
       "<td><span data-sort-value=\"7004515780000000000♠\">51,578</span>\n",
       "</td>\n",
       "<td><span data-sort-value=\"7002695000000000000♠\">695</span> sq mi<br/>(<span data-sort-value=\"7003180000000000000♠\">1,800</span> km<sup>2</sup>)</td>\n",
       "<td><a class=\"image\" href=\"/wiki/File:Map_of_Maryland_highlighting_Worcester_County.svg\" title=\"State map highlighting Worcester County\"><img alt=\"State map highlighting Worcester County\" data-file-height=\"2019\" data-file-width=\"3858\" decoding=\"async\" height=\"78\" src=\"//upload.wikimedia.org/wikipedia/commons/thumb/9/93/Map_of_Maryland_highlighting_Worcester_County.svg/150px-Map_of_Maryland_highlighting_Worcester_County.svg.png\" srcset=\"//upload.wikimedia.org/wikipedia/commons/thumb/9/93/Map_of_Maryland_highlighting_Worcester_County.svg/225px-Map_of_Maryland_highlighting_Worcester_County.svg.png 1.5x, //upload.wikimedia.org/wikipedia/commons/thumb/9/93/Map_of_Maryland_highlighting_Worcester_County.svg/300px-Map_of_Maryland_highlighting_Worcester_County.svg.png 2x\" width=\"150\"/></a>\n",
       "</td></tr></tbody></table>"
      ]
     },
     "execution_count": 8,
     "metadata": {},
     "output_type": "execute_result"
    }
   ],
   "source": [
    "raw_HTML.find('table',class_='wikitable sortable')"
   ]
  },
  {
   "cell_type": "code",
   "execution_count": 9,
   "metadata": {},
   "outputs": [],
   "source": [
    "table = raw_HTML.find('table')"
   ]
  },
  {
   "cell_type": "code",
   "execution_count": 10,
   "metadata": {},
   "outputs": [
    {
     "data": {
      "text/plain": [
       "[<tr><th class=\"summary\" colspan=\"2\" style=\"text-align:center;font-size:125%;font-weight:bold;font-size: 130%; background-color: #F0F0F0; vertical-align: middle\">Independent city and counties of Maryland</th></tr>,\n",
       " <tr><td colspan=\"2\" style=\"text-align:center\"><a class=\"image\" href=\"/wiki/File:Map_of_maryland_counties.jpg\"><img alt=\"Map of maryland counties.jpg\" data-file-height=\"436\" data-file-width=\"814\" decoding=\"async\" height=\"161\" src=\"//upload.wikimedia.org/wikipedia/commons/thumb/7/7d/Map_of_maryland_counties.jpg/300px-Map_of_maryland_counties.jpg\" srcset=\"//upload.wikimedia.org/wikipedia/commons/thumb/7/7d/Map_of_maryland_counties.jpg/450px-Map_of_maryland_counties.jpg 1.5x, //upload.wikimedia.org/wikipedia/commons/thumb/7/7d/Map_of_maryland_counties.jpg/600px-Map_of_maryland_counties.jpg 2x\" width=\"300\"/></a></td></tr>,\n",
       " <tr><th scope=\"row\" style=\"white-space:nowrap;padding-right:0.65em;\">Location</th><td style=\"line-height:1.3em;\"><a href=\"/wiki/Maryland\" title=\"Maryland\">State of Maryland</a></td></tr>,\n",
       " <tr><th scope=\"row\" style=\"white-space:nowrap;padding-right:0.65em;\">Number</th><td style=\"line-height:1.3em;\">23 counties and 1 Independent city</td></tr>]"
      ]
     },
     "execution_count": 10,
     "metadata": {},
     "output_type": "execute_result"
    }
   ],
   "source": [
    "table.find_all('tr')[:4]"
   ]
  },
  {
   "cell_type": "code",
   "execution_count": 11,
   "metadata": {},
   "outputs": [],
   "source": [
    "tabledata = table.find_all('tr')[2:]"
   ]
  },
  {
   "cell_type": "code",
   "execution_count": 12,
   "metadata": {},
   "outputs": [
    {
     "data": {
      "text/plain": [
       "[<tr><th scope=\"row\" style=\"white-space:nowrap;padding-right:0.65em;\">Location</th><td style=\"line-height:1.3em;\"><a href=\"/wiki/Maryland\" title=\"Maryland\">State of Maryland</a></td></tr>,\n",
       " <tr><th scope=\"row\" style=\"white-space:nowrap;padding-right:0.65em;\">Number</th><td style=\"line-height:1.3em;\">23 counties and 1 Independent city</td></tr>]"
      ]
     },
     "execution_count": 12,
     "metadata": {},
     "output_type": "execute_result"
    }
   ],
   "source": [
    "tabledata[:2]"
   ]
  },
  {
   "cell_type": "code",
   "execution_count": 14,
   "metadata": {},
   "outputs": [
    {
     "data": {
      "text/plain": [
       "<tr><th scope=\"row\" style=\"white-space:nowrap;padding-right:0.65em;\">Location</th><td style=\"line-height:1.3em;\"><a href=\"/wiki/Maryland\" title=\"Maryland\">State of Maryland</a></td></tr>"
      ]
     },
     "execution_count": 14,
     "metadata": {},
     "output_type": "execute_result"
    }
   ],
   "source": [
    "tabledata[0]"
   ]
  },
  {
   "cell_type": "code",
   "execution_count": 16,
   "metadata": {},
   "outputs": [
    {
     "data": {
      "text/plain": [
       "[<td style=\"line-height:1.3em;\"><a href=\"/wiki/Maryland\" title=\"Maryland\">State of Maryland</a></td>]"
      ]
     },
     "execution_count": 16,
     "metadata": {},
     "output_type": "execute_result"
    }
   ],
   "source": [
    "tabledata[0].find_all('td')"
   ]
  },
  {
   "cell_type": "code",
   "execution_count": 17,
   "metadata": {},
   "outputs": [],
   "source": [
    "first_raw = tabledata[0].find_all('td')"
   ]
  },
  {
   "cell_type": "code",
   "execution_count": 18,
   "metadata": {},
   "outputs": [
    {
     "data": {
      "text/plain": [
       "<td style=\"line-height:1.3em;\"><a href=\"/wiki/Maryland\" title=\"Maryland\">State of Maryland</a></td>"
      ]
     },
     "execution_count": 18,
     "metadata": {},
     "output_type": "execute_result"
    }
   ],
   "source": [
    "first_raw[0]"
   ]
  },
  {
   "cell_type": "code",
   "execution_count": 19,
   "metadata": {},
   "outputs": [
    {
     "data": {
      "text/plain": [
       "'State of Maryland'"
      ]
     },
     "execution_count": 19,
     "metadata": {},
     "output_type": "execute_result"
    }
   ],
   "source": [
    "first_raw[0].text"
   ]
  },
  {
   "cell_type": "code",
   "execution_count": 20,
   "metadata": {},
   "outputs": [
    {
     "name": "stdout",
     "output_type": "stream",
     "text": [
      "State of Maryland\n"
     ]
    }
   ],
   "source": [
    "for data in first_raw:\n",
    "    print(data.text)"
   ]
  },
  {
   "cell_type": "code",
   "execution_count": 22,
   "metadata": {},
   "outputs": [],
   "source": [
    "counties_info = {'FIPS_code':[],\n",
    "                 'County_seat':[],\n",
    "                 'Est.':[],\n",
    "                 'Origin':[],\n",
    "                 'Etymology':[],\n",
    "                 'Population':[],\n",
    "                 'Map':[],\n",
    "                }"
   ]
  },
  {
   "cell_type": "code",
   "execution_count": 23,
   "metadata": {},
   "outputs": [
    {
     "data": {
      "text/plain": [
       "dict_values([[], [], [], [], [], [], []])"
      ]
     },
     "execution_count": 23,
     "metadata": {},
     "output_type": "execute_result"
    }
   ],
   "source": [
    "counties_info.values()"
   ]
  },
  {
   "cell_type": "code",
   "execution_count": 24,
   "metadata": {},
   "outputs": [
    {
     "name": "stdout",
     "output_type": "stream",
     "text": [
      "0 []\n",
      "1 []\n",
      "2 []\n",
      "3 []\n",
      "4 []\n",
      "5 []\n",
      "6 []\n"
     ]
    }
   ],
   "source": [
    "for index,item in enumerate(counties_info.values()):\n",
    "    print(index,item)"
   ]
  },
  {
   "cell_type": "code",
   "execution_count": 27,
   "metadata": {},
   "outputs": [
    {
     "ename": "ValueError",
     "evalue": "too many values to unpack (expected 1)",
     "output_type": "error",
     "traceback": [
      "\u001b[1;31m---------------------------------------------------------------------------\u001b[0m",
      "\u001b[1;31mValueError\u001b[0m                                Traceback (most recent call last)",
      "\u001b[1;32m<ipython-input-27-9707b6a0be51>\u001b[0m in \u001b[0;36m<module>\u001b[1;34m\u001b[0m\n\u001b[0;32m      2\u001b[0m     \u001b[0mraw_data\u001b[0m \u001b[1;33m=\u001b[0m \u001b[0mraw\u001b[0m\u001b[1;33m.\u001b[0m\u001b[0mfind_all\u001b[0m\u001b[1;33m(\u001b[0m\u001b[1;34m'td'\u001b[0m\u001b[1;33m)\u001b[0m\u001b[1;33m\u001b[0m\u001b[1;33m\u001b[0m\u001b[0m\n\u001b[0;32m      3\u001b[0m \u001b[1;33m\u001b[0m\u001b[0m\n\u001b[1;32m----> 4\u001b[1;33m     \u001b[1;32mfor\u001b[0m \u001b[0mindex\u001b[0m\u001b[1;33m,\u001b[0m \u001b[1;32min\u001b[0m \u001b[0menumerate\u001b[0m\u001b[1;33m(\u001b[0m\u001b[0mcounties_info\u001b[0m\u001b[1;33m.\u001b[0m\u001b[0mvalues\u001b[0m\u001b[1;33m(\u001b[0m\u001b[1;33m)\u001b[0m\u001b[1;33m)\u001b[0m\u001b[1;33m:\u001b[0m\u001b[1;33m\u001b[0m\u001b[1;33m\u001b[0m\u001b[0m\n\u001b[0m\u001b[0;32m      5\u001b[0m \u001b[1;33m\u001b[0m\u001b[0m\n\u001b[0;32m      6\u001b[0m         \u001b[0mdata\u001b[0m \u001b[1;33m=\u001b[0m \u001b[0mraw_data\u001b[0m\u001b[1;33m[\u001b[0m\u001b[0mindex\u001b[0m\u001b[1;33m]\u001b[0m\u001b[1;33m.\u001b[0m\u001b[0mtext\u001b[0m\u001b[1;33m\u001b[0m\u001b[1;33m\u001b[0m\u001b[0m\n",
      "\u001b[1;31mValueError\u001b[0m: too many values to unpack (expected 1)"
     ]
    }
   ],
   "source": [
    "for raw in tabledata :\n",
    "    raw_data = raw.find_all('td')\n",
    "    \n",
    "    for index, in enumerate(counties_info.values()):\n",
    "        \n",
    "        data = raw_data[index].text\n",
    "        \n",
    "        if (data ==\"\\n\") or (data ==''):\n",
    "            \n",
    "            item.append(np.nan)\n",
    "            \n",
    "        else :\n",
    "            item.append(data)"
   ]
  },
  {
   "cell_type": "code",
   "execution_count": null,
   "metadata": {},
   "outputs": [],
   "source": []
  }
 ],
 "metadata": {
  "kernelspec": {
   "display_name": "Python 3",
   "language": "python",
   "name": "python3"
  },
  "language_info": {
   "codemirror_mode": {
    "name": "ipython",
    "version": 3
   },
   "file_extension": ".py",
   "mimetype": "text/x-python",
   "name": "python",
   "nbconvert_exporter": "python",
   "pygments_lexer": "ipython3",
   "version": "3.7.4"
  }
 },
 "nbformat": 4,
 "nbformat_minor": 2
}
